{
 "cells": [
  {
   "cell_type": "code",
   "execution_count": 1,
   "metadata": {},
   "outputs": [],
   "source": [
    "using CSV, DataFrames\n",
    "using LightGraphs"
   ]
  },
  {
   "cell_type": "markdown",
   "metadata": {},
   "source": [
    "## Load data"
   ]
  },
  {
   "cell_type": "code",
   "execution_count": 2,
   "metadata": {},
   "outputs": [
    {
     "data": {
      "text/html": [
       "<table class=\"data-frame\"><thead><tr><th></th><th>gene_id</th><th>tf_hgnc_id</th><th>post_prob</th></tr><tr><th></th><th>String</th><th>String</th><th>Float64</th></tr></thead><tbody><p>10 rows × 3 columns</p><tr><th>1</th><td>CATG00000000004.1</td><td>HGNC:11241</td><td>0.104402</td></tr><tr><th>2</th><td>CATG00000000004.1</td><td>HGNC:11291</td><td>0.278845</td></tr><tr><th>3</th><td>CATG00000000004.1</td><td>HGNC:16736</td><td>0.333713</td></tr><tr><th>4</th><td>CATG00000000004.1</td><td>HGNC:18562</td><td>0.120572</td></tr><tr><th>5</th><td>CATG00000000004.1</td><td>HGNC:4170</td><td>0.324268</td></tr><tr><th>6</th><td>CATG00000000004.1</td><td>HGNC:7566</td><td>0.356093</td></tr><tr><th>7</th><td>CATG00000000004.1</td><td>HGNC:7786</td><td>0.122919</td></tr><tr><th>8</th><td>CATG00000000004.1</td><td>HGNC:7794</td><td>0.139591</td></tr><tr><th>9</th><td>CATG00000000004.1</td><td>HGNC:7804</td><td>0.213821</td></tr><tr><th>10</th><td>CATG00000000004.1</td><td>HGNC:7978</td><td>0.14079</td></tr></tbody></table>"
      ],
      "text/latex": [
       "\\begin{tabular}{r|ccc}\n",
       "\t& gene\\_id & tf\\_hgnc\\_id & post\\_prob\\\\\n",
       "\t\\hline\n",
       "\t& String & String & Float64\\\\\n",
       "\t\\hline\n",
       "\t1 & CATG00000000004.1 & HGNC:11241 & 0.104402 \\\\\n",
       "\t2 & CATG00000000004.1 & HGNC:11291 & 0.278845 \\\\\n",
       "\t3 & CATG00000000004.1 & HGNC:16736 & 0.333713 \\\\\n",
       "\t4 & CATG00000000004.1 & HGNC:18562 & 0.120572 \\\\\n",
       "\t5 & CATG00000000004.1 & HGNC:4170 & 0.324268 \\\\\n",
       "\t6 & CATG00000000004.1 & HGNC:7566 & 0.356093 \\\\\n",
       "\t7 & CATG00000000004.1 & HGNC:7786 & 0.122919 \\\\\n",
       "\t8 & CATG00000000004.1 & HGNC:7794 & 0.139591 \\\\\n",
       "\t9 & CATG00000000004.1 & HGNC:7804 & 0.213821 \\\\\n",
       "\t10 & CATG00000000004.1 & HGNC:7978 & 0.14079 \\\\\n",
       "\\end{tabular}\n"
      ],
      "text/plain": [
       "10×3 DataFrame\n",
       "│ Row │ gene_id           │ tf_hgnc_id │ post_prob │\n",
       "│     │ \u001b[90mString\u001b[39m            │ \u001b[90mString\u001b[39m     │ \u001b[90mFloat64\u001b[39m   │\n",
       "├─────┼───────────────────┼────────────┼───────────┤\n",
       "│ 1   │ CATG00000000004.1 │ HGNC:11241 │ 0.104402  │\n",
       "│ 2   │ CATG00000000004.1 │ HGNC:11291 │ 0.278845  │\n",
       "│ 3   │ CATG00000000004.1 │ HGNC:16736 │ 0.333713  │\n",
       "│ 4   │ CATG00000000004.1 │ HGNC:18562 │ 0.120572  │\n",
       "│ 5   │ CATG00000000004.1 │ HGNC:4170  │ 0.324268  │\n",
       "│ 6   │ CATG00000000004.1 │ HGNC:7566  │ 0.356093  │\n",
       "│ 7   │ CATG00000000004.1 │ HGNC:7786  │ 0.122919  │\n",
       "│ 8   │ CATG00000000004.1 │ HGNC:7794  │ 0.139591  │\n",
       "│ 9   │ CATG00000000004.1 │ HGNC:7804  │ 0.213821  │\n",
       "│ 10  │ CATG00000000004.1 │ HGNC:7978  │ 0.14079   │"
      ]
     },
     "execution_count": 2,
     "metadata": {},
     "output_type": "execute_result"
    }
   ],
   "source": [
    "gene_tf = CSV.read(\"../data/fantom5_cat/gene_tf_map.csv\")\n",
    "first(gene_tf, 10)"
   ]
  },
  {
   "cell_type": "code",
   "execution_count": 3,
   "metadata": {},
   "outputs": [
    {
     "data": {
      "text/html": [
       "<table class=\"data-frame\"><thead><tr><th></th><th>gene_id</th><th>hgnc_id</th><th>is_autoregulatory</th></tr><tr><th></th><th>String</th><th>String</th><th>String</th></tr></thead><tbody><p>10 rows × 3 columns</p><tr><th>1</th><td>ENSG00000151702.12</td><td>HGNC:3749</td><td>f</td></tr><tr><th>2</th><td>ENSG00000158711.9</td><td>HGNC:3326</td><td>t</td></tr><tr><th>3</th><td>ENSG00000137203.6</td><td>HGNC:11742</td><td>t</td></tr><tr><th>4</th><td>ENSG00000068305.13</td><td>HGNC:6993</td><td>t</td></tr><tr><th>5</th><td>ENSG00000091831.17</td><td>HGNC:3467</td><td>t</td></tr><tr><th>6</th><td>ENSG00000131759.13</td><td>HGNC:9864</td><td>t</td></tr><tr><th>7</th><td>ENSG00000177932.6</td><td>HGNC:16736</td><td>f</td></tr><tr><th>8</th><td>ENSG00000163064.6</td><td>HGNC:3342</td><td>f</td></tr><tr><th>9</th><td>ENSG00000166478.5</td><td>HGNC:12928</td><td>t</td></tr><tr><th>10</th><td>ENSG00000139515.5</td><td>HGNC:6107</td><td>t</td></tr></tbody></table>"
      ],
      "text/latex": [
       "\\begin{tabular}{r|ccc}\n",
       "\t& gene\\_id & hgnc\\_id & is\\_autoregulatory\\\\\n",
       "\t\\hline\n",
       "\t& String & String & String\\\\\n",
       "\t\\hline\n",
       "\t1 & ENSG00000151702.12 & HGNC:3749 & f \\\\\n",
       "\t2 & ENSG00000158711.9 & HGNC:3326 & t \\\\\n",
       "\t3 & ENSG00000137203.6 & HGNC:11742 & t \\\\\n",
       "\t4 & ENSG00000068305.13 & HGNC:6993 & t \\\\\n",
       "\t5 & ENSG00000091831.17 & HGNC:3467 & t \\\\\n",
       "\t6 & ENSG00000131759.13 & HGNC:9864 & t \\\\\n",
       "\t7 & ENSG00000177932.6 & HGNC:16736 & f \\\\\n",
       "\t8 & ENSG00000163064.6 & HGNC:3342 & f \\\\\n",
       "\t9 & ENSG00000166478.5 & HGNC:12928 & t \\\\\n",
       "\t10 & ENSG00000139515.5 & HGNC:6107 & t \\\\\n",
       "\\end{tabular}\n"
      ],
      "text/plain": [
       "10×3 DataFrame\n",
       "│ Row │ gene_id            │ hgnc_id    │ is_autoregulatory │\n",
       "│     │ \u001b[90mString\u001b[39m             │ \u001b[90mString\u001b[39m     │ \u001b[90mString\u001b[39m            │\n",
       "├─────┼────────────────────┼────────────┼───────────────────┤\n",
       "│ 1   │ ENSG00000151702.12 │ HGNC:3749  │ f                 │\n",
       "│ 2   │ ENSG00000158711.9  │ HGNC:3326  │ t                 │\n",
       "│ 3   │ ENSG00000137203.6  │ HGNC:11742 │ t                 │\n",
       "│ 4   │ ENSG00000068305.13 │ HGNC:6993  │ t                 │\n",
       "│ 5   │ ENSG00000091831.17 │ HGNC:3467  │ t                 │\n",
       "│ 6   │ ENSG00000131759.13 │ HGNC:9864  │ t                 │\n",
       "│ 7   │ ENSG00000177932.6  │ HGNC:16736 │ f                 │\n",
       "│ 8   │ ENSG00000163064.6  │ HGNC:3342  │ f                 │\n",
       "│ 9   │ ENSG00000166478.5  │ HGNC:12928 │ t                 │\n",
       "│ 10  │ ENSG00000139515.5  │ HGNC:6107  │ t                 │"
      ]
     },
     "execution_count": 3,
     "metadata": {},
     "output_type": "execute_result"
    }
   ],
   "source": [
    "tf = CSV.read(\"../data/fantom5_cat/tf_list.csv\")\n",
    "first(tf, 10)"
   ]
  },
  {
   "cell_type": "code",
   "execution_count": 4,
   "metadata": {},
   "outputs": [
    {
     "data": {
      "text/plain": [
       "1990"
      ]
     },
     "execution_count": 4,
     "metadata": {},
     "output_type": "execute_result"
    }
   ],
   "source": [
    "tf_set = Set(tf.hgnc_id)\n",
    "length(tf_set)"
   ]
  },
  {
   "cell_type": "markdown",
   "metadata": {},
   "source": [
    "## Make HGNC mapping to gene id"
   ]
  },
  {
   "cell_type": "code",
   "execution_count": 5,
   "metadata": {},
   "outputs": [
    {
     "data": {
      "text/plain": [
       "Dict{String,String} with 1990 entries:\n",
       "  \"HGNC:16960\" => \"ENSG00000138136.5\"\n",
       "  \"HGNC:6876\"  => \"ENSG00000112062.6\"\n",
       "  \"HGNC:3490\"  => \"ENSG00000006468.9\"\n",
       "  \"HGNC:29158\" => \"ENSG00000064932.11\"\n",
       "  \"HGNC:18039\" => \"ENSG00000117139.12\"\n",
       "  \"HGNC:6347\"  => \"ENSG00000127528.5\"\n",
       "  \"HGNC:3436\"  => \"ENSG00000175595.10\"\n",
       "  \"HGNC:16806\" => \"ENSG00000104517.8\"\n",
       "  \"HGNC:12892\" => \"ENSG00000062370.12\"\n",
       "  \"HGNC:3093\"  => \"ENSG00000127334.10\"\n",
       "  \"HGNC:18348\" => \"ENSG00000127666.8\"\n",
       "  \"HGNC:3115\"  => \"ENSG00000112242.10\"\n",
       "  \"HGNC:13075\" => \"ENSG00000162702.7\"\n",
       "  \"HGNC:13077\" => \"ENSG00000167637.12\"\n",
       "  \"HGNC:28495\" => \"ENSG00000176083.13\"\n",
       "  \"HGNC:25741\" => \"ENSG00000198093.6\"\n",
       "  \"HGNC:11715\" => \"ENSG00000074219.9\"\n",
       "  \"HGNC:13198\" => \"ENSG00000198205.5\"\n",
       "  \"HGNC:18320\" => \"ENSG00000165244.6\"\n",
       "  \"HGNC:30729\" => \"ENSG00000178662.11\"\n",
       "  \"HGNC:14625\" => \"ENSG00000170779.10\"\n",
       "  \"HGNC:9189\"  => \"ENSG00000102978.8\"\n",
       "  \"HGNC:24787\" => \"ENSG00000172888.7\"\n",
       "  \"HGNC:34032\" => \"ENSG00000185869.9\"\n",
       "  \"HGNC:23508\" => \"ENSG00000165730.10\"\n",
       "  ⋮            => ⋮"
      ]
     },
     "execution_count": 5,
     "metadata": {},
     "output_type": "execute_result"
    }
   ],
   "source": [
    "hgnc2id = Dict(tf[i, :hgnc_id] => tf[i, :gene_id] for i = 1:nrow(tf))"
   ]
  },
  {
   "cell_type": "code",
   "execution_count": 6,
   "metadata": {},
   "outputs": [
    {
     "data": {
      "text/html": [
       "<table class=\"data-frame\"><thead><tr><th></th><th>gene_id</th><th>tf_hgnc_id</th><th>post_prob</th></tr><tr><th></th><th>String</th><th>String</th><th>Float64</th></tr></thead><tbody><p>2,067,895 rows × 3 columns</p><tr><th>1</th><td>CATG00000000004.1</td><td>HGNC:11241</td><td>0.104402</td></tr><tr><th>2</th><td>CATG00000000004.1</td><td>HGNC:11291</td><td>0.278845</td></tr><tr><th>3</th><td>CATG00000000004.1</td><td>HGNC:16736</td><td>0.333713</td></tr><tr><th>4</th><td>CATG00000000004.1</td><td>HGNC:18562</td><td>0.120572</td></tr><tr><th>5</th><td>CATG00000000004.1</td><td>HGNC:4170</td><td>0.324268</td></tr><tr><th>6</th><td>CATG00000000004.1</td><td>HGNC:7566</td><td>0.356093</td></tr><tr><th>7</th><td>CATG00000000004.1</td><td>HGNC:7786</td><td>0.122919</td></tr><tr><th>8</th><td>CATG00000000004.1</td><td>HGNC:7794</td><td>0.139591</td></tr><tr><th>9</th><td>CATG00000000004.1</td><td>HGNC:7804</td><td>0.213821</td></tr><tr><th>10</th><td>CATG00000000004.1</td><td>HGNC:7978</td><td>0.14079</td></tr><tr><th>11</th><td>CATG00000000008.1</td><td>HGNC:10471</td><td>0.151914</td></tr><tr><th>12</th><td>CATG00000000008.1</td><td>HGNC:10477</td><td>0.296004</td></tr><tr><th>13</th><td>CATG00000000008.1</td><td>HGNC:11190</td><td>0.191756</td></tr><tr><th>14</th><td>CATG00000000008.1</td><td>HGNC:11195</td><td>0.117013</td></tr><tr><th>15</th><td>CATG00000000008.1</td><td>HGNC:11201</td><td>0.448107</td></tr><tr><th>16</th><td>CATG00000000008.1</td><td>HGNC:11204</td><td>0.106175</td></tr><tr><th>17</th><td>CATG00000000008.1</td><td>HGNC:11205</td><td>0.62771</td></tr><tr><th>18</th><td>CATG00000000008.1</td><td>HGNC:11241</td><td>0.207723</td></tr><tr><th>19</th><td>CATG00000000008.1</td><td>HGNC:11242</td><td>0.116125</td></tr><tr><th>20</th><td>CATG00000000008.1</td><td>HGNC:11311</td><td>0.17462</td></tr><tr><th>21</th><td>CATG00000000008.1</td><td>HGNC:11362</td><td>0.238478</td></tr><tr><th>22</th><td>CATG00000000008.1</td><td>HGNC:11714</td><td>0.191836</td></tr><tr><th>23</th><td>CATG00000000008.1</td><td>HGNC:12856</td><td>0.41579</td></tr><tr><th>24</th><td>CATG00000000008.1</td><td>HGNC:12869</td><td>0.960658</td></tr><tr><th>25</th><td>CATG00000000008.1</td><td>HGNC:12928</td><td>0.613813</td></tr><tr><th>26</th><td>CATG00000000008.1</td><td>HGNC:13108</td><td>0.755311</td></tr><tr><th>27</th><td>CATG00000000008.1</td><td>HGNC:16736</td><td>0.166749</td></tr><tr><th>28</th><td>CATG00000000008.1</td><td>HGNC:16762</td><td>0.125942</td></tr><tr><th>29</th><td>CATG00000000008.1</td><td>HGNC:18122</td><td>0.476887</td></tr><tr><th>30</th><td>CATG00000000008.1</td><td>HGNC:1833</td><td>0.242084</td></tr><tr><th>&vellip;</th><td>&vellip;</td><td>&vellip;</td><td>&vellip;</td></tr></tbody></table>"
      ],
      "text/latex": [
       "\\begin{tabular}{r|ccc}\n",
       "\t& gene\\_id & tf\\_hgnc\\_id & post\\_prob\\\\\n",
       "\t\\hline\n",
       "\t& String & String & Float64\\\\\n",
       "\t\\hline\n",
       "\t1 & CATG00000000004.1 & HGNC:11241 & 0.104402 \\\\\n",
       "\t2 & CATG00000000004.1 & HGNC:11291 & 0.278845 \\\\\n",
       "\t3 & CATG00000000004.1 & HGNC:16736 & 0.333713 \\\\\n",
       "\t4 & CATG00000000004.1 & HGNC:18562 & 0.120572 \\\\\n",
       "\t5 & CATG00000000004.1 & HGNC:4170 & 0.324268 \\\\\n",
       "\t6 & CATG00000000004.1 & HGNC:7566 & 0.356093 \\\\\n",
       "\t7 & CATG00000000004.1 & HGNC:7786 & 0.122919 \\\\\n",
       "\t8 & CATG00000000004.1 & HGNC:7794 & 0.139591 \\\\\n",
       "\t9 & CATG00000000004.1 & HGNC:7804 & 0.213821 \\\\\n",
       "\t10 & CATG00000000004.1 & HGNC:7978 & 0.14079 \\\\\n",
       "\t11 & CATG00000000008.1 & HGNC:10471 & 0.151914 \\\\\n",
       "\t12 & CATG00000000008.1 & HGNC:10477 & 0.296004 \\\\\n",
       "\t13 & CATG00000000008.1 & HGNC:11190 & 0.191756 \\\\\n",
       "\t14 & CATG00000000008.1 & HGNC:11195 & 0.117013 \\\\\n",
       "\t15 & CATG00000000008.1 & HGNC:11201 & 0.448107 \\\\\n",
       "\t16 & CATG00000000008.1 & HGNC:11204 & 0.106175 \\\\\n",
       "\t17 & CATG00000000008.1 & HGNC:11205 & 0.62771 \\\\\n",
       "\t18 & CATG00000000008.1 & HGNC:11241 & 0.207723 \\\\\n",
       "\t19 & CATG00000000008.1 & HGNC:11242 & 0.116125 \\\\\n",
       "\t20 & CATG00000000008.1 & HGNC:11311 & 0.17462 \\\\\n",
       "\t21 & CATG00000000008.1 & HGNC:11362 & 0.238478 \\\\\n",
       "\t22 & CATG00000000008.1 & HGNC:11714 & 0.191836 \\\\\n",
       "\t23 & CATG00000000008.1 & HGNC:12856 & 0.41579 \\\\\n",
       "\t24 & CATG00000000008.1 & HGNC:12869 & 0.960658 \\\\\n",
       "\t25 & CATG00000000008.1 & HGNC:12928 & 0.613813 \\\\\n",
       "\t26 & CATG00000000008.1 & HGNC:13108 & 0.755311 \\\\\n",
       "\t27 & CATG00000000008.1 & HGNC:16736 & 0.166749 \\\\\n",
       "\t28 & CATG00000000008.1 & HGNC:16762 & 0.125942 \\\\\n",
       "\t29 & CATG00000000008.1 & HGNC:18122 & 0.476887 \\\\\n",
       "\t30 & CATG00000000008.1 & HGNC:1833 & 0.242084 \\\\\n",
       "\t$\\dots$ & $\\dots$ & $\\dots$ & $\\dots$ \\\\\n",
       "\\end{tabular}\n"
      ],
      "text/plain": [
       "2067895×3 DataFrame\n",
       "│ Row     │ gene_id           │ tf_hgnc_id │ post_prob │\n",
       "│         │ \u001b[90mString\u001b[39m            │ \u001b[90mString\u001b[39m     │ \u001b[90mFloat64\u001b[39m   │\n",
       "├─────────┼───────────────────┼────────────┼───────────┤\n",
       "│ 1       │ CATG00000000004.1 │ HGNC:11241 │ 0.104402  │\n",
       "│ 2       │ CATG00000000004.1 │ HGNC:11291 │ 0.278845  │\n",
       "│ 3       │ CATG00000000004.1 │ HGNC:16736 │ 0.333713  │\n",
       "│ 4       │ CATG00000000004.1 │ HGNC:18562 │ 0.120572  │\n",
       "│ 5       │ CATG00000000004.1 │ HGNC:4170  │ 0.324268  │\n",
       "│ 6       │ CATG00000000004.1 │ HGNC:7566  │ 0.356093  │\n",
       "│ 7       │ CATG00000000004.1 │ HGNC:7786  │ 0.122919  │\n",
       "│ 8       │ CATG00000000004.1 │ HGNC:7794  │ 0.139591  │\n",
       "│ 9       │ CATG00000000004.1 │ HGNC:7804  │ 0.213821  │\n",
       "│ 10      │ CATG00000000004.1 │ HGNC:7978  │ 0.14079   │\n",
       "⋮\n",
       "│ 2067885 │ ENSGR0000225661.2 │ HGNC:10477 │ 0.726234  │\n",
       "│ 2067886 │ ENSGR0000225661.2 │ HGNC:11633 │ 0.240344  │\n",
       "│ 2067887 │ ENSGR0000225661.2 │ HGNC:11742 │ 0.155432  │\n",
       "│ 2067888 │ ENSGR0000225661.2 │ HGNC:12679 │ 0.226348  │\n",
       "│ 2067889 │ ENSGR0000225661.2 │ HGNC:13108 │ 0.118774  │\n",
       "│ 2067890 │ ENSGR0000225661.2 │ HGNC:17850 │ 0.673128  │\n",
       "│ 2067891 │ ENSGR0000225661.2 │ HGNC:4807  │ 0.240344  │\n",
       "│ 2067892 │ ENSGR0000225661.2 │ HGNC:7786  │ 0.122919  │\n",
       "│ 2067893 │ ENSGR0000225661.2 │ HGNC:7975  │ 0.12274   │\n",
       "│ 2067894 │ ENSGR0000225661.2 │ HGNC:9236  │ 0.646138  │\n",
       "│ 2067895 │ ENSGR0000225661.2 │ HGNC:9864  │ 0.77419   │"
      ]
     },
     "execution_count": 6,
     "metadata": {},
     "output_type": "execute_result"
    }
   ],
   "source": [
    "# not all tf has hgnc id\n",
    "gene_tf = gene_tf[map(x -> x in tf_set, gene_tf[!, :tf_hgnc_id]), :]"
   ]
  },
  {
   "cell_type": "code",
   "execution_count": 7,
   "metadata": {},
   "outputs": [
    {
     "data": {
      "text/html": [
       "<table class=\"data-frame\"><thead><tr><th></th><th>gene_id</th><th>tf_hgnc_id</th><th>post_prob</th><th>tf_id</th></tr><tr><th></th><th>String</th><th>String</th><th>Float64</th><th>String</th></tr></thead><tbody><p>10 rows × 4 columns</p><tr><th>1</th><td>CATG00000000004.1</td><td>HGNC:11241</td><td>0.104402</td><td>ENSG00000066336.7</td></tr><tr><th>2</th><td>CATG00000000004.1</td><td>HGNC:11291</td><td>0.278845</td><td>ENSG00000112658.6</td></tr><tr><th>3</th><td>CATG00000000004.1</td><td>HGNC:16736</td><td>0.333713</td><td>ENSG00000177932.6</td></tr><tr><th>4</th><td>CATG00000000004.1</td><td>HGNC:18562</td><td>0.120572</td><td>ENSG00000163497.2</td></tr><tr><th>5</th><td>CATG00000000004.1</td><td>HGNC:4170</td><td>0.324268</td><td>ENSG00000102145.9</td></tr><tr><th>6</th><td>CATG00000000004.1</td><td>HGNC:7566</td><td>0.356093</td><td>ENSG00000111046.3</td></tr><tr><th>7</th><td>CATG00000000004.1</td><td>HGNC:7786</td><td>0.122919</td><td>ENSG00000141905.13</td></tr><tr><th>8</th><td>CATG00000000004.1</td><td>HGNC:7794</td><td>0.139591</td><td>ENSG00000109320.7</td></tr><tr><th>9</th><td>CATG00000000004.1</td><td>HGNC:7804</td><td>0.213821</td><td>ENSG00000001167.10</td></tr><tr><th>10</th><td>CATG00000000004.1</td><td>HGNC:7978</td><td>0.14079</td><td>ENSG00000113580.10</td></tr></tbody></table>"
      ],
      "text/latex": [
       "\\begin{tabular}{r|cccc}\n",
       "\t& gene\\_id & tf\\_hgnc\\_id & post\\_prob & tf\\_id\\\\\n",
       "\t\\hline\n",
       "\t& String & String & Float64 & String\\\\\n",
       "\t\\hline\n",
       "\t1 & CATG00000000004.1 & HGNC:11241 & 0.104402 & ENSG00000066336.7 \\\\\n",
       "\t2 & CATG00000000004.1 & HGNC:11291 & 0.278845 & ENSG00000112658.6 \\\\\n",
       "\t3 & CATG00000000004.1 & HGNC:16736 & 0.333713 & ENSG00000177932.6 \\\\\n",
       "\t4 & CATG00000000004.1 & HGNC:18562 & 0.120572 & ENSG00000163497.2 \\\\\n",
       "\t5 & CATG00000000004.1 & HGNC:4170 & 0.324268 & ENSG00000102145.9 \\\\\n",
       "\t6 & CATG00000000004.1 & HGNC:7566 & 0.356093 & ENSG00000111046.3 \\\\\n",
       "\t7 & CATG00000000004.1 & HGNC:7786 & 0.122919 & ENSG00000141905.13 \\\\\n",
       "\t8 & CATG00000000004.1 & HGNC:7794 & 0.139591 & ENSG00000109320.7 \\\\\n",
       "\t9 & CATG00000000004.1 & HGNC:7804 & 0.213821 & ENSG00000001167.10 \\\\\n",
       "\t10 & CATG00000000004.1 & HGNC:7978 & 0.14079 & ENSG00000113580.10 \\\\\n",
       "\\end{tabular}\n"
      ],
      "text/plain": [
       "10×4 DataFrame\n",
       "│ Row │ gene_id           │ tf_hgnc_id │ post_prob │ tf_id              │\n",
       "│     │ \u001b[90mString\u001b[39m            │ \u001b[90mString\u001b[39m     │ \u001b[90mFloat64\u001b[39m   │ \u001b[90mString\u001b[39m             │\n",
       "├─────┼───────────────────┼────────────┼───────────┼────────────────────┤\n",
       "│ 1   │ CATG00000000004.1 │ HGNC:11241 │ 0.104402  │ ENSG00000066336.7  │\n",
       "│ 2   │ CATG00000000004.1 │ HGNC:11291 │ 0.278845  │ ENSG00000112658.6  │\n",
       "│ 3   │ CATG00000000004.1 │ HGNC:16736 │ 0.333713  │ ENSG00000177932.6  │\n",
       "│ 4   │ CATG00000000004.1 │ HGNC:18562 │ 0.120572  │ ENSG00000163497.2  │\n",
       "│ 5   │ CATG00000000004.1 │ HGNC:4170  │ 0.324268  │ ENSG00000102145.9  │\n",
       "│ 6   │ CATG00000000004.1 │ HGNC:7566  │ 0.356093  │ ENSG00000111046.3  │\n",
       "│ 7   │ CATG00000000004.1 │ HGNC:7786  │ 0.122919  │ ENSG00000141905.13 │\n",
       "│ 8   │ CATG00000000004.1 │ HGNC:7794  │ 0.139591  │ ENSG00000109320.7  │\n",
       "│ 9   │ CATG00000000004.1 │ HGNC:7804  │ 0.213821  │ ENSG00000001167.10 │\n",
       "│ 10  │ CATG00000000004.1 │ HGNC:7978  │ 0.14079   │ ENSG00000113580.10 │"
      ]
     },
     "execution_count": 7,
     "metadata": {},
     "output_type": "execute_result"
    }
   ],
   "source": [
    "gene_tf[!, :tf_id] = map(x -> hgnc2id[x], gene_tf[!, :tf_hgnc_id])\n",
    "first(gene_tf, 10)"
   ]
  },
  {
   "cell_type": "code",
   "execution_count": 8,
   "metadata": {},
   "outputs": [
    {
     "data": {
      "text/plain": [
       "42140"
      ]
     },
     "execution_count": 8,
     "metadata": {},
     "output_type": "execute_result"
    }
   ],
   "source": [
    "gene_set = Set(gene_tf.gene_id)\n",
    "length(gene_set)"
   ]
  },
  {
   "cell_type": "code",
   "execution_count": 9,
   "metadata": {},
   "outputs": [
    {
     "data": {
      "text/plain": [
       "117"
      ]
     },
     "execution_count": 9,
     "metadata": {},
     "output_type": "execute_result"
    }
   ],
   "source": [
    "tf_set = Set(gene_tf.tf_id)\n",
    "length(tf_set)"
   ]
  },
  {
   "cell_type": "markdown",
   "metadata": {},
   "source": [
    "## Check gene set includes all tf set"
   ]
  },
  {
   "cell_type": "code",
   "execution_count": 10,
   "metadata": {},
   "outputs": [
    {
     "data": {
      "text/plain": [
       "false"
      ]
     },
     "execution_count": 10,
     "metadata": {},
     "output_type": "execute_result"
    }
   ],
   "source": [
    "issubset(tf_set, gene_set)"
   ]
  },
  {
   "cell_type": "code",
   "execution_count": 11,
   "metadata": {},
   "outputs": [
    {
     "data": {
      "text/plain": [
       "Set([\"ENSG00000007541.10\", \"ENSG00000100228.8\", \"ENSG00000213005.2\", \"ENSG00000183484.7\", \"ENSG00000251655.2\", \"CATG00000029625.1\", \"CATG00000109254.1\", \"CATG00000050206.1\", \"ENSG00000261441.1\", \"ENSG00000205730.5\"  …  \"ENSG00000129270.11\", \"ENSG00000234474.2\", \"ENSG00000235859.4\", \"CATG00000077874.1\", \"ENSG00000258973.1\", \"ENSG00000197976.6\", \"ENSG00000168779.15\", \"ENSG00000233839.1\", \"ENSG00000264608.1\", \"CATG00000083902.1\", \"CATG00000096583.1\"])"
      ]
     },
     "execution_count": 11,
     "metadata": {},
     "output_type": "execute_result"
    }
   ],
   "source": [
    "gene_set = gene_set ∪ setdiff(tf_set, gene_set)"
   ]
  },
  {
   "cell_type": "markdown",
   "metadata": {},
   "source": [
    "## Make sorted gene list"
   ]
  },
  {
   "cell_type": "code",
   "execution_count": 12,
   "metadata": {},
   "outputs": [
    {
     "data": {
      "text/plain": [
       "42141-element Array{String,1}:\n",
       " \"CATG00000000004.1\"\n",
       " \"CATG00000000008.1\"\n",
       " \"CATG00000000010.1\"\n",
       " \"CATG00000000011.1\"\n",
       " \"CATG00000000018.1\"\n",
       " \"CATG00000000020.1\"\n",
       " \"CATG00000000025.1\"\n",
       " \"CATG00000000026.1\"\n",
       " \"CATG00000000027.1\"\n",
       " \"CATG00000000031.1\"\n",
       " \"CATG00000000068.1\"\n",
       " \"CATG00000000070.1\"\n",
       " \"CATG00000000075.1\"\n",
       " ⋮                  \n",
       " \"ENSG00000273437.1\"\n",
       " \"ENSG00000273439.1\"\n",
       " \"ENSG00000273443.1\"\n",
       " \"ENSG00000273451.1\"\n",
       " \"ENSG00000273456.1\"\n",
       " \"ENSG00000273464.1\"\n",
       " \"ENSG00000273472.1\"\n",
       " \"ENSG00000273473.1\"\n",
       " \"ENSG00000273481.1\"\n",
       " \"ENSG00000273492.1\"\n",
       " \"ENSGR0000169100.8\"\n",
       " \"ENSGR0000225661.2\""
      ]
     },
     "execution_count": 12,
     "metadata": {},
     "output_type": "execute_result"
    }
   ],
   "source": [
    "gene_set = sort([x for x = gene_set])"
   ]
  },
  {
   "cell_type": "code",
   "execution_count": 13,
   "metadata": {},
   "outputs": [
    {
     "data": {
      "text/plain": [
       "Dict{String,Int64} with 42141 entries:\n",
       "  \"ENSG00000007541.10\" => 14631\n",
       "  \"ENSG00000100228.8\"  => 16663\n",
       "  \"ENSG00000213005.2\"  => 32419\n",
       "  \"ENSG00000183484.7\"  => 29184\n",
       "  \"ENSG00000264608.1\"  => 40586\n",
       "  \"CATG00000029625.1\"  => 3568\n",
       "  \"CATG00000050206.1\"  => 6426\n",
       "  \"CATG00000109254.1\"  => 13338\n",
       "  \"ENSG00000205730.5\"  => 31913\n",
       "  \"ENSG00000261441.1\"  => 40169\n",
       "  \"CATG00000004484.1\"  => 523\n",
       "  \"ENSG00000224276.1\"  => 33383\n",
       "  \"CATG00000055094.1\"  => 7086\n",
       "  \"CATG00000056050.1\"  => 7228\n",
       "  \"CATG00000014732.1\"  => 1805\n",
       "  \"ENSG00000196109.6\"  => 30389\n",
       "  \"ENSG00000273176.1\"  => 42069\n",
       "  \"ENSG00000064655.14\" => 15334\n",
       "  \"ENSG00000087589.12\" => 16192\n",
       "  \"ENSG00000223597.2\"  => 33226\n",
       "  \"CATG00000078853.1\"  => 9768\n",
       "  \"ENSG00000241720.2\"  => 36683\n",
       "  \"CATG00000029808.1\"  => 3592\n",
       "  \"ENSG00000140718.14\" => 22329\n",
       "  \"CATG00000003309.1\"  => 420\n",
       "  ⋮                    => ⋮"
      ]
     },
     "execution_count": 13,
     "metadata": {},
     "output_type": "execute_result"
    }
   ],
   "source": [
    "gene2num = Dict(x => i for (i, x) in enumerate(gene_set))"
   ]
  },
  {
   "cell_type": "markdown",
   "metadata": {},
   "source": [
    "## Make simple directed graph"
   ]
  },
  {
   "cell_type": "code",
   "execution_count": 14,
   "metadata": {},
   "outputs": [
    {
     "data": {
      "text/plain": [
       "{42141, 0} directed simple Int64 graph"
      ]
     },
     "execution_count": 14,
     "metadata": {},
     "output_type": "execute_result"
    }
   ],
   "source": [
    "dg = SimpleDiGraph(length(gene_set))"
   ]
  },
  {
   "cell_type": "code",
   "execution_count": 15,
   "metadata": {},
   "outputs": [],
   "source": [
    "for i = 1:nrow(gene_tf)\n",
    "    g = gene2num[gene_tf[i, :gene_id]]\n",
    "    tf = gene2num[gene_tf[i, :tf_id]]\n",
    "    add_edge!(dg, tf, g)\n",
    "end"
   ]
  },
  {
   "cell_type": "code",
   "execution_count": 16,
   "metadata": {},
   "outputs": [
    {
     "data": {
      "text/plain": [
       "{42141, 2067895} directed simple Int64 graph"
      ]
     },
     "execution_count": 16,
     "metadata": {},
     "output_type": "execute_result"
    }
   ],
   "source": [
    "dg"
   ]
  },
  {
   "cell_type": "code",
   "execution_count": 17,
   "metadata": {},
   "outputs": [],
   "source": [
    "using JLD2"
   ]
  },
  {
   "cell_type": "code",
   "execution_count": 18,
   "metadata": {},
   "outputs": [],
   "source": [
    "@save \"../results/tf_gene_network.jld2\" dg\n",
    "@save \"../results/gene_set.jld2\" gene_set"
   ]
  },
  {
   "cell_type": "code",
   "execution_count": null,
   "metadata": {},
   "outputs": [],
   "source": []
  }
 ],
 "metadata": {
  "kernelspec": {
   "display_name": "Julia 1.2.0",
   "language": "julia",
   "name": "julia-1.2"
  },
  "language_info": {
   "file_extension": ".jl",
   "mimetype": "application/julia",
   "name": "julia",
   "version": "1.2.0"
  }
 },
 "nbformat": 4,
 "nbformat_minor": 2
}
