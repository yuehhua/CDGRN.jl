{
 "cells": [
  {
   "cell_type": "code",
   "execution_count": 1,
   "metadata": {},
   "outputs": [],
   "source": [
    "using DataFrames\n",
    "using JLD2"
   ]
  },
  {
   "cell_type": "code",
   "execution_count": 2,
   "metadata": {},
   "outputs": [
    {
     "data": {
      "text/plain": [
       "1-element Array{Symbol,1}:\n",
       " :datasets"
      ]
     },
     "execution_count": 2,
     "metadata": {},
     "output_type": "execute_result"
    }
   ],
   "source": [
    "@load \"../results/datasets.jld2\" datasets"
   ]
  },
  {
   "cell_type": "code",
   "execution_count": 3,
   "metadata": {},
   "outputs": [
    {
     "data": {
      "text/plain": [
       "Dict{String,Tuple} with 15 entries:\n",
       "  \"HES3-GFP Embryonic Stem… => (42141×14 DataFrame. Omitted printing of 9 colum…\n",
       "  \"H9 Embryoid body cells,… => (42141×16 DataFrame. Omitted printing of 11 colu…\n",
       "  \"HES3-GFP Embryonic Stem… => (42141×14 DataFrame. Omitted printing of 9 colum…\n",
       "  \"Monocyte-derived macrop… => (42141×26 DataFrame. Omitted printing of 21 colu…\n",
       "  \"Monocyte-derived macrop… => (42141×27 DataFrame. Omitted printing of 22 colu…\n",
       "  \"Monocyte-derived macrop… => (42141×27 DataFrame. Omitted printing of 22 colu…\n",
       "  \"HES3-GFP Embryonic Stem… => (42141×14 DataFrame. Omitted printing of 9 colum…\n",
       "  \"H9 Embryoid body cells,… => (42141×15 DataFrame. Omitted printing of 10 colu…\n",
       "  \"MCF7 breast cancer cell… => (42141×16 DataFrame. Omitted printing of 11 colu…\n",
       "  \"MCF7 breast cancer cell… => (42141×16 DataFrame. Omitted printing of 11 colu…\n",
       "  \"MCF7 breast cancer cell… => (42141×16 DataFrame. Omitted printing of 11 colu…\n",
       "  \"adipose-derived mesench… => (42141×18 DataFrame. Omitted printing of 13 colu…\n",
       "  \"H9 Embryoid body cells,… => (42141×16 DataFrame. Omitted printing of 11 colu…\n",
       "  \"adipose-derived mesench… => (42141×18 DataFrame. Omitted printing of 13 colu…\n",
       "  \"adipose-derived mesench… => (42141×18 DataFrame. Omitted printing of 13 colu…"
      ]
     },
     "execution_count": 3,
     "metadata": {},
     "output_type": "execute_result"
    }
   ],
   "source": [
    "datasets"
   ]
  },
  {
   "cell_type": "code",
   "execution_count": null,
   "metadata": {},
   "outputs": [],
   "source": [
    "using GeometricFlux, DiffEqFlux\n",
    "using Flux\n",
    "using Flux: mse, throttle"
   ]
  },
  {
   "cell_type": "code",
   "execution_count": null,
   "metadata": {},
   "outputs": [],
   "source": [
    "ann = Chain(Dense(2,10,tanh), Dense(10,1))\n",
    "p = param(Float32[-2.0,1.1])"
   ]
  },
  {
   "cell_type": "code",
   "execution_count": null,
   "metadata": {},
   "outputs": [],
   "source": [
    "function dudt_(u::AbstractArray,p,t)\n",
    "    x, y = u\n",
    "    [Flux.data(ann(u)[1]),\n",
    "    p[1]*y + p[2]*x*y]\n",
    "end"
   ]
  },
  {
   "cell_type": "code",
   "execution_count": null,
   "metadata": {},
   "outputs": [],
   "source": [
    "prob = ODEProblem(dudt_,u0,tspan,p)"
   ]
  },
  {
   "cell_type": "code",
   "execution_count": null,
   "metadata": {},
   "outputs": [],
   "source": [
    "predict_rd() = Flux.Tracker.collect(diffeq_rd(p,prob,Tsit5(),u0=u0))"
   ]
  },
  {
   "cell_type": "code",
   "execution_count": null,
   "metadata": {},
   "outputs": [],
   "source": [
    "loss() = mse(model(x), y) + sum(abs, ps)"
   ]
  },
  {
   "cell_type": "code",
   "execution_count": null,
   "metadata": {},
   "outputs": [],
   "source": [
    "data = Iterators.repeated((), 10)\n",
    "opt = ADAM(0.1)\n",
    "cb() = display(loss())"
   ]
  },
  {
   "cell_type": "code",
   "execution_count": null,
   "metadata": {},
   "outputs": [],
   "source": [
    "Flux.train!(loss_rd, Flux.params(model), data, opt, cb = cb)"
   ]
  },
  {
   "cell_type": "code",
   "execution_count": null,
   "metadata": {},
   "outputs": [],
   "source": []
  }
 ],
 "metadata": {
  "kernelspec": {
   "display_name": "Julia 1.2.0",
   "language": "julia",
   "name": "julia-1.2"
  },
  "language_info": {
   "file_extension": ".jl",
   "mimetype": "application/julia",
   "name": "julia",
   "version": "1.2.0"
  }
 },
 "nbformat": 4,
 "nbformat_minor": 2
}
