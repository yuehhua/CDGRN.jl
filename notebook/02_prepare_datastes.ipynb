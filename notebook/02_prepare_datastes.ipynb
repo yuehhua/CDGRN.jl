{
 "cells": [
  {
   "cell_type": "code",
   "execution_count": 19,
   "metadata": {},
   "outputs": [],
   "source": [
    "using CSV, DataFrames\n",
    "using JLD2"
   ]
  },
  {
   "cell_type": "markdown",
   "metadata": {},
   "source": [
    "## Load data"
   ]
  },
  {
   "cell_type": "code",
   "execution_count": 2,
   "metadata": {},
   "outputs": [
    {
     "data": {
      "text/html": [
       "<table class=\"data-frame\"><thead><tr><th></th><th>category</th><th>experiment</th><th>cell_type</th><th>related_type</th><th>condition</th></tr><tr><th></th><th>String</th><th>String</th><th>String</th><th>String</th><th>String⍰</th></tr></thead><tbody><p>10 rows × 10 columns (omitted printing of 5 columns)</p><tr><th>1</th><td>time courses</td><td>AoSMC</td><td>Aortic smooth muscle cell</td><td>muscle</td><td>response to FGF2</td></tr><tr><th>2</th><td>time courses</td><td>AoSMC</td><td>Aortic smooth muscle cell</td><td>muscle</td><td>response to FGF2</td></tr><tr><th>3</th><td>time courses</td><td>AoSMC</td><td>Aortic smooth muscle cell</td><td>muscle</td><td>response to FGF2</td></tr><tr><th>4</th><td>time courses</td><td>AoSMC</td><td>Aortic smooth muscle cell</td><td>muscle</td><td>response to FGF2</td></tr><tr><th>5</th><td>time courses</td><td>AoSMC</td><td>Aortic smooth muscle cell</td><td>muscle</td><td>response to FGF2</td></tr><tr><th>6</th><td>time courses</td><td>AoSMC</td><td>Aortic smooth muscle cell</td><td>muscle</td><td>response to FGF2</td></tr><tr><th>7</th><td>time courses</td><td>AoSMC</td><td>Aortic smooth muscle cell</td><td>muscle</td><td>response to FGF2</td></tr><tr><th>8</th><td>time courses</td><td>AoSMC</td><td>Aortic smooth muscle cell</td><td>muscle</td><td>response to FGF2</td></tr><tr><th>9</th><td>time courses</td><td>AoSMC</td><td>Aortic smooth muscle cell</td><td>muscle</td><td>response to FGF2</td></tr><tr><th>10</th><td>time courses</td><td>AoSMC</td><td>Aortic smooth muscle cell</td><td>muscle</td><td>response to FGF2</td></tr></tbody></table>"
      ],
      "text/latex": [
       "\\begin{tabular}{r|cccccc}\n",
       "\t& category & experiment & cell\\_type & related\\_type & condition & \\\\\n",
       "\t\\hline\n",
       "\t& String & String & String & String & String⍰ & \\\\\n",
       "\t\\hline\n",
       "\t1 & time courses & AoSMC & Aortic smooth muscle cell & muscle & response to FGF2 & $\\dots$ \\\\\n",
       "\t2 & time courses & AoSMC & Aortic smooth muscle cell & muscle & response to FGF2 & $\\dots$ \\\\\n",
       "\t3 & time courses & AoSMC & Aortic smooth muscle cell & muscle & response to FGF2 & $\\dots$ \\\\\n",
       "\t4 & time courses & AoSMC & Aortic smooth muscle cell & muscle & response to FGF2 & $\\dots$ \\\\\n",
       "\t5 & time courses & AoSMC & Aortic smooth muscle cell & muscle & response to FGF2 & $\\dots$ \\\\\n",
       "\t6 & time courses & AoSMC & Aortic smooth muscle cell & muscle & response to FGF2 & $\\dots$ \\\\\n",
       "\t7 & time courses & AoSMC & Aortic smooth muscle cell & muscle & response to FGF2 & $\\dots$ \\\\\n",
       "\t8 & time courses & AoSMC & Aortic smooth muscle cell & muscle & response to FGF2 & $\\dots$ \\\\\n",
       "\t9 & time courses & AoSMC & Aortic smooth muscle cell & muscle & response to FGF2 & $\\dots$ \\\\\n",
       "\t10 & time courses & AoSMC & Aortic smooth muscle cell & muscle & response to FGF2 & $\\dots$ \\\\\n",
       "\\end{tabular}\n"
      ],
      "text/plain": [
       "10×10 DataFrame. Omitted printing of 6 columns\n",
       "│ Row │ category     │ experiment │ cell_type                 │ related_type │\n",
       "│     │ \u001b[90mString\u001b[39m       │ \u001b[90mString\u001b[39m     │ \u001b[90mString\u001b[39m                    │ \u001b[90mString\u001b[39m       │\n",
       "├─────┼──────────────┼────────────┼───────────────────────────┼──────────────┤\n",
       "│ 1   │ time courses │ AoSMC      │ Aortic smooth muscle cell │ muscle       │\n",
       "│ 2   │ time courses │ AoSMC      │ Aortic smooth muscle cell │ muscle       │\n",
       "│ 3   │ time courses │ AoSMC      │ Aortic smooth muscle cell │ muscle       │\n",
       "│ 4   │ time courses │ AoSMC      │ Aortic smooth muscle cell │ muscle       │\n",
       "│ 5   │ time courses │ AoSMC      │ Aortic smooth muscle cell │ muscle       │\n",
       "│ 6   │ time courses │ AoSMC      │ Aortic smooth muscle cell │ muscle       │\n",
       "│ 7   │ time courses │ AoSMC      │ Aortic smooth muscle cell │ muscle       │\n",
       "│ 8   │ time courses │ AoSMC      │ Aortic smooth muscle cell │ muscle       │\n",
       "│ 9   │ time courses │ AoSMC      │ Aortic smooth muscle cell │ muscle       │\n",
       "│ 10  │ time courses │ AoSMC      │ Aortic smooth muscle cell │ muscle       │"
      ]
     },
     "execution_count": 2,
     "metadata": {},
     "output_type": "execute_result"
    }
   ],
   "source": [
    "meta = CSV.read(\"../data/fantom5_cat/time_course_meta.csv\")\n",
    "first(meta, 10)"
   ]
  },
  {
   "cell_type": "code",
   "execution_count": 3,
   "metadata": {},
   "outputs": [
    {
     "data": {
      "text/html": [
       "<table class=\"data-frame\"><thead><tr><th></th><th>gene_id</th><th>CNhs11936</th><th>CNhs13100</th><th>CNhs13101</th><th>CNhs13102</th><th>CNhs13103</th><th>CNhs13104</th></tr><tr><th></th><th>String</th><th>Float64</th><th>Float64</th><th>Float64</th><th>Float64</th><th>Float64</th><th>Float64</th></tr></thead><tbody><p>10 rows × 786 columns (omitted printing of 779 columns)</p><tr><th>1</th><td>CATG00000000004.1</td><td>0.0</td><td>0.74513</td><td>0.0</td><td>0.0</td><td>0.0</td><td>0.0</td></tr><tr><th>2</th><td>CATG00000000008.1</td><td>0.84004</td><td>0.0</td><td>0.0</td><td>0.0</td><td>0.0</td><td>0.0</td></tr><tr><th>3</th><td>CATG00000000010.1</td><td>0.0</td><td>0.74513</td><td>0.0</td><td>0.0</td><td>0.47301</td><td>0.0</td></tr><tr><th>4</th><td>CATG00000000011.1</td><td>0.16801</td><td>0.0</td><td>0.58957</td><td>0.0</td><td>0.47301</td><td>0.0</td></tr><tr><th>5</th><td>CATG00000000015.1</td><td>0.0</td><td>0.0</td><td>0.0</td><td>0.0</td><td>0.0</td><td>0.0</td></tr><tr><th>6</th><td>CATG00000000018.1</td><td>0.0</td><td>0.0</td><td>0.0</td><td>0.0</td><td>0.0</td><td>0.0</td></tr><tr><th>7</th><td>CATG00000000020.1</td><td>0.0</td><td>0.0</td><td>0.0</td><td>0.0</td><td>0.0</td><td>0.0</td></tr><tr><th>8</th><td>CATG00000000025.1</td><td>0.0</td><td>0.0</td><td>0.0</td><td>0.0</td><td>0.47301</td><td>0.44853</td></tr><tr><th>9</th><td>CATG00000000026.1</td><td>0.0</td><td>0.0</td><td>0.0</td><td>0.0</td><td>0.0</td><td>0.0</td></tr><tr><th>10</th><td>CATG00000000027.1</td><td>0.0</td><td>0.0</td><td>0.0</td><td>0.0</td><td>0.0</td><td>0.0</td></tr></tbody></table>"
      ],
      "text/latex": [
       "\\begin{tabular}{r|cccccccc}\n",
       "\t& gene\\_id & CNhs11936 & CNhs13100 & CNhs13101 & CNhs13102 & CNhs13103 & CNhs13104 & \\\\\n",
       "\t\\hline\n",
       "\t& String & Float64 & Float64 & Float64 & Float64 & Float64 & Float64 & \\\\\n",
       "\t\\hline\n",
       "\t1 & CATG00000000004.1 & 0.0 & 0.74513 & 0.0 & 0.0 & 0.0 & 0.0 & $\\dots$ \\\\\n",
       "\t2 & CATG00000000008.1 & 0.84004 & 0.0 & 0.0 & 0.0 & 0.0 & 0.0 & $\\dots$ \\\\\n",
       "\t3 & CATG00000000010.1 & 0.0 & 0.74513 & 0.0 & 0.0 & 0.47301 & 0.0 & $\\dots$ \\\\\n",
       "\t4 & CATG00000000011.1 & 0.16801 & 0.0 & 0.58957 & 0.0 & 0.47301 & 0.0 & $\\dots$ \\\\\n",
       "\t5 & CATG00000000015.1 & 0.0 & 0.0 & 0.0 & 0.0 & 0.0 & 0.0 & $\\dots$ \\\\\n",
       "\t6 & CATG00000000018.1 & 0.0 & 0.0 & 0.0 & 0.0 & 0.0 & 0.0 & $\\dots$ \\\\\n",
       "\t7 & CATG00000000020.1 & 0.0 & 0.0 & 0.0 & 0.0 & 0.0 & 0.0 & $\\dots$ \\\\\n",
       "\t8 & CATG00000000025.1 & 0.0 & 0.0 & 0.0 & 0.0 & 0.47301 & 0.44853 & $\\dots$ \\\\\n",
       "\t9 & CATG00000000026.1 & 0.0 & 0.0 & 0.0 & 0.0 & 0.0 & 0.0 & $\\dots$ \\\\\n",
       "\t10 & CATG00000000027.1 & 0.0 & 0.0 & 0.0 & 0.0 & 0.0 & 0.0 & $\\dots$ \\\\\n",
       "\\end{tabular}\n"
      ],
      "text/plain": [
       "10×786 DataFrame. Omitted printing of 781 columns\n",
       "│ Row │ gene_id           │ CNhs11936 │ CNhs13100 │ CNhs13101 │ CNhs13102 │\n",
       "│     │ \u001b[90mString\u001b[39m            │ \u001b[90mFloat64\u001b[39m   │ \u001b[90mFloat64\u001b[39m   │ \u001b[90mFloat64\u001b[39m   │ \u001b[90mFloat64\u001b[39m   │\n",
       "├─────┼───────────────────┼───────────┼───────────┼───────────┼───────────┤\n",
       "│ 1   │ CATG00000000004.1 │ 0.0       │ 0.74513   │ 0.0       │ 0.0       │\n",
       "│ 2   │ CATG00000000008.1 │ 0.84004   │ 0.0       │ 0.0       │ 0.0       │\n",
       "│ 3   │ CATG00000000010.1 │ 0.0       │ 0.74513   │ 0.0       │ 0.0       │\n",
       "│ 4   │ CATG00000000011.1 │ 0.16801   │ 0.0       │ 0.58957   │ 0.0       │\n",
       "│ 5   │ CATG00000000015.1 │ 0.0       │ 0.0       │ 0.0       │ 0.0       │\n",
       "│ 6   │ CATG00000000018.1 │ 0.0       │ 0.0       │ 0.0       │ 0.0       │\n",
       "│ 7   │ CATG00000000020.1 │ 0.0       │ 0.0       │ 0.0       │ 0.0       │\n",
       "│ 8   │ CATG00000000025.1 │ 0.0       │ 0.0       │ 0.0       │ 0.0       │\n",
       "│ 9   │ CATG00000000026.1 │ 0.0       │ 0.0       │ 0.0       │ 0.0       │\n",
       "│ 10  │ CATG00000000027.1 │ 0.0       │ 0.0       │ 0.0       │ 0.0       │"
      ]
     },
     "execution_count": 3,
     "metadata": {},
     "output_type": "execute_result"
    }
   ],
   "source": [
    "raw = CSV.read(\"../data/fantom5_cat/time_course_raw.csv\")\n",
    "first(raw, 10)"
   ]
  },
  {
   "cell_type": "markdown",
   "metadata": {},
   "source": [
    "## Select gene set"
   ]
  },
  {
   "cell_type": "code",
   "execution_count": 20,
   "metadata": {},
   "outputs": [
    {
     "data": {
      "text/plain": [
       "1-element Array{Symbol,1}:\n",
       " :gene_set"
      ]
     },
     "execution_count": 20,
     "metadata": {},
     "output_type": "execute_result"
    }
   ],
   "source": [
    "@load \"../results/gene_set.jld2\" gene_set"
   ]
  },
  {
   "cell_type": "code",
   "execution_count": 21,
   "metadata": {},
   "outputs": [
    {
     "data": {
      "text/plain": [
       "59110"
      ]
     },
     "execution_count": 21,
     "metadata": {},
     "output_type": "execute_result"
    }
   ],
   "source": [
    "nrow(raw)"
   ]
  },
  {
   "cell_type": "code",
   "execution_count": 23,
   "metadata": {},
   "outputs": [
    {
     "data": {
      "text/plain": [
       "isin (generic function with 1 method)"
      ]
     },
     "execution_count": 23,
     "metadata": {},
     "output_type": "execute_result"
    }
   ],
   "source": [
    "isin(xs, ys) = map(x -> x in ys, xs)"
   ]
  },
  {
   "cell_type": "code",
   "execution_count": 25,
   "metadata": {},
   "outputs": [
    {
     "data": {
      "text/html": [
       "<table class=\"data-frame\"><thead><tr><th></th><th>gene_id</th><th>CNhs11936</th><th>CNhs13100</th><th>CNhs13101</th><th>CNhs13102</th><th>CNhs13103</th><th>CNhs13104</th></tr><tr><th></th><th>String</th><th>Float64</th><th>Float64</th><th>Float64</th><th>Float64</th><th>Float64</th><th>Float64</th></tr></thead><tbody><p>42,141 rows × 786 columns (omitted printing of 779 columns)</p><tr><th>1</th><td>CATG00000000004.1</td><td>0.0</td><td>0.74513</td><td>0.0</td><td>0.0</td><td>0.0</td><td>0.0</td></tr><tr><th>2</th><td>CATG00000000008.1</td><td>0.84004</td><td>0.0</td><td>0.0</td><td>0.0</td><td>0.0</td><td>0.0</td></tr><tr><th>3</th><td>CATG00000000010.1</td><td>0.0</td><td>0.74513</td><td>0.0</td><td>0.0</td><td>0.47301</td><td>0.0</td></tr><tr><th>4</th><td>CATG00000000011.1</td><td>0.16801</td><td>0.0</td><td>0.58957</td><td>0.0</td><td>0.47301</td><td>0.0</td></tr><tr><th>5</th><td>CATG00000000018.1</td><td>0.0</td><td>0.0</td><td>0.0</td><td>0.0</td><td>0.0</td><td>0.0</td></tr><tr><th>6</th><td>CATG00000000020.1</td><td>0.0</td><td>0.0</td><td>0.0</td><td>0.0</td><td>0.0</td><td>0.0</td></tr><tr><th>7</th><td>CATG00000000025.1</td><td>0.0</td><td>0.0</td><td>0.0</td><td>0.0</td><td>0.47301</td><td>0.44853</td></tr><tr><th>8</th><td>CATG00000000026.1</td><td>0.0</td><td>0.0</td><td>0.0</td><td>0.0</td><td>0.0</td><td>0.0</td></tr><tr><th>9</th><td>CATG00000000027.1</td><td>0.0</td><td>0.0</td><td>0.0</td><td>0.0</td><td>0.0</td><td>0.0</td></tr><tr><th>10</th><td>CATG00000000031.1</td><td>0.0</td><td>0.0</td><td>0.0</td><td>0.0</td><td>0.0</td><td>0.0</td></tr><tr><th>11</th><td>CATG00000000068.1</td><td>0.33601</td><td>0.0</td><td>0.0</td><td>0.0</td><td>0.0</td><td>0.0</td></tr><tr><th>12</th><td>CATG00000000070.1</td><td>0.0</td><td>0.0</td><td>0.0</td><td>0.0</td><td>0.0</td><td>0.0</td></tr><tr><th>13</th><td>CATG00000000075.1</td><td>0.0</td><td>0.0</td><td>0.0</td><td>0.0</td><td>0.0</td><td>0.0</td></tr><tr><th>14</th><td>CATG00000000082.1</td><td>0.0</td><td>0.0</td><td>0.0</td><td>0.0</td><td>0.0</td><td>0.0</td></tr><tr><th>15</th><td>CATG00000000083.1</td><td>0.0</td><td>0.0</td><td>0.0</td><td>0.0</td><td>0.0</td><td>0.0</td></tr><tr><th>16</th><td>CATG00000000084.1</td><td>0.0</td><td>0.0</td><td>0.0</td><td>0.0</td><td>0.0</td><td>0.0</td></tr><tr><th>17</th><td>CATG00000000085.1</td><td>0.0</td><td>0.0</td><td>0.0</td><td>0.0</td><td>0.0</td><td>0.0</td></tr><tr><th>18</th><td>CATG00000000086.1</td><td>0.50402</td><td>0.0</td><td>0.0</td><td>0.0</td><td>0.0</td><td>0.44853</td></tr><tr><th>19</th><td>CATG00000000088.1</td><td>0.0</td><td>0.0</td><td>0.0</td><td>0.0</td><td>0.0</td><td>0.0</td></tr><tr><th>20</th><td>CATG00000000096.1</td><td>0.0</td><td>0.0</td><td>0.0</td><td>0.0</td><td>0.0</td><td>0.44853</td></tr><tr><th>21</th><td>CATG00000000100.1</td><td>0.0</td><td>0.0</td><td>0.0</td><td>0.0</td><td>0.0</td><td>0.0</td></tr><tr><th>22</th><td>CATG00000000105.1</td><td>0.33601</td><td>0.0</td><td>0.58957</td><td>0.0</td><td>0.0</td><td>0.0</td></tr><tr><th>23</th><td>CATG00000000106.1</td><td>0.16801</td><td>0.0</td><td>0.0</td><td>0.0</td><td>0.0</td><td>0.0</td></tr><tr><th>24</th><td>CATG00000000107.1</td><td>1.34406</td><td>0.74513</td><td>0.0</td><td>0.59182</td><td>1.89204</td><td>0.89706</td></tr><tr><th>25</th><td>CATG00000000110.1</td><td>0.16801</td><td>0.0</td><td>0.0</td><td>0.0</td><td>0.0</td><td>0.0</td></tr><tr><th>26</th><td>CATG00000000135.1</td><td>0.0</td><td>0.0</td><td>0.0</td><td>0.0</td><td>0.0</td><td>0.0</td></tr><tr><th>27</th><td>CATG00000000155.1</td><td>2.01609</td><td>1.49026</td><td>1.17914</td><td>0.59182</td><td>0.94602</td><td>1.34559</td></tr><tr><th>28</th><td>CATG00000000163.1</td><td>0.0</td><td>0.0</td><td>0.0</td><td>0.0</td><td>0.0</td><td>0.0</td></tr><tr><th>29</th><td>CATG00000000200.1</td><td>0.0</td><td>0.0</td><td>0.0</td><td>0.0</td><td>0.0</td><td>0.0</td></tr><tr><th>30</th><td>CATG00000000211.1</td><td>0.50402</td><td>0.74513</td><td>0.58957</td><td>0.59182</td><td>0.47301</td><td>0.44853</td></tr><tr><th>&vellip;</th><td>&vellip;</td><td>&vellip;</td><td>&vellip;</td><td>&vellip;</td><td>&vellip;</td><td>&vellip;</td><td>&vellip;</td></tr></tbody></table>"
      ],
      "text/latex": [
       "\\begin{tabular}{r|cccccccc}\n",
       "\t& gene\\_id & CNhs11936 & CNhs13100 & CNhs13101 & CNhs13102 & CNhs13103 & CNhs13104 & \\\\\n",
       "\t\\hline\n",
       "\t& String & Float64 & Float64 & Float64 & Float64 & Float64 & Float64 & \\\\\n",
       "\t\\hline\n",
       "\t1 & CATG00000000004.1 & 0.0 & 0.74513 & 0.0 & 0.0 & 0.0 & 0.0 & $\\dots$ \\\\\n",
       "\t2 & CATG00000000008.1 & 0.84004 & 0.0 & 0.0 & 0.0 & 0.0 & 0.0 & $\\dots$ \\\\\n",
       "\t3 & CATG00000000010.1 & 0.0 & 0.74513 & 0.0 & 0.0 & 0.47301 & 0.0 & $\\dots$ \\\\\n",
       "\t4 & CATG00000000011.1 & 0.16801 & 0.0 & 0.58957 & 0.0 & 0.47301 & 0.0 & $\\dots$ \\\\\n",
       "\t5 & CATG00000000018.1 & 0.0 & 0.0 & 0.0 & 0.0 & 0.0 & 0.0 & $\\dots$ \\\\\n",
       "\t6 & CATG00000000020.1 & 0.0 & 0.0 & 0.0 & 0.0 & 0.0 & 0.0 & $\\dots$ \\\\\n",
       "\t7 & CATG00000000025.1 & 0.0 & 0.0 & 0.0 & 0.0 & 0.47301 & 0.44853 & $\\dots$ \\\\\n",
       "\t8 & CATG00000000026.1 & 0.0 & 0.0 & 0.0 & 0.0 & 0.0 & 0.0 & $\\dots$ \\\\\n",
       "\t9 & CATG00000000027.1 & 0.0 & 0.0 & 0.0 & 0.0 & 0.0 & 0.0 & $\\dots$ \\\\\n",
       "\t10 & CATG00000000031.1 & 0.0 & 0.0 & 0.0 & 0.0 & 0.0 & 0.0 & $\\dots$ \\\\\n",
       "\t11 & CATG00000000068.1 & 0.33601 & 0.0 & 0.0 & 0.0 & 0.0 & 0.0 & $\\dots$ \\\\\n",
       "\t12 & CATG00000000070.1 & 0.0 & 0.0 & 0.0 & 0.0 & 0.0 & 0.0 & $\\dots$ \\\\\n",
       "\t13 & CATG00000000075.1 & 0.0 & 0.0 & 0.0 & 0.0 & 0.0 & 0.0 & $\\dots$ \\\\\n",
       "\t14 & CATG00000000082.1 & 0.0 & 0.0 & 0.0 & 0.0 & 0.0 & 0.0 & $\\dots$ \\\\\n",
       "\t15 & CATG00000000083.1 & 0.0 & 0.0 & 0.0 & 0.0 & 0.0 & 0.0 & $\\dots$ \\\\\n",
       "\t16 & CATG00000000084.1 & 0.0 & 0.0 & 0.0 & 0.0 & 0.0 & 0.0 & $\\dots$ \\\\\n",
       "\t17 & CATG00000000085.1 & 0.0 & 0.0 & 0.0 & 0.0 & 0.0 & 0.0 & $\\dots$ \\\\\n",
       "\t18 & CATG00000000086.1 & 0.50402 & 0.0 & 0.0 & 0.0 & 0.0 & 0.44853 & $\\dots$ \\\\\n",
       "\t19 & CATG00000000088.1 & 0.0 & 0.0 & 0.0 & 0.0 & 0.0 & 0.0 & $\\dots$ \\\\\n",
       "\t20 & CATG00000000096.1 & 0.0 & 0.0 & 0.0 & 0.0 & 0.0 & 0.44853 & $\\dots$ \\\\\n",
       "\t21 & CATG00000000100.1 & 0.0 & 0.0 & 0.0 & 0.0 & 0.0 & 0.0 & $\\dots$ \\\\\n",
       "\t22 & CATG00000000105.1 & 0.33601 & 0.0 & 0.58957 & 0.0 & 0.0 & 0.0 & $\\dots$ \\\\\n",
       "\t23 & CATG00000000106.1 & 0.16801 & 0.0 & 0.0 & 0.0 & 0.0 & 0.0 & $\\dots$ \\\\\n",
       "\t24 & CATG00000000107.1 & 1.34406 & 0.74513 & 0.0 & 0.59182 & 1.89204 & 0.89706 & $\\dots$ \\\\\n",
       "\t25 & CATG00000000110.1 & 0.16801 & 0.0 & 0.0 & 0.0 & 0.0 & 0.0 & $\\dots$ \\\\\n",
       "\t26 & CATG00000000135.1 & 0.0 & 0.0 & 0.0 & 0.0 & 0.0 & 0.0 & $\\dots$ \\\\\n",
       "\t27 & CATG00000000155.1 & 2.01609 & 1.49026 & 1.17914 & 0.59182 & 0.94602 & 1.34559 & $\\dots$ \\\\\n",
       "\t28 & CATG00000000163.1 & 0.0 & 0.0 & 0.0 & 0.0 & 0.0 & 0.0 & $\\dots$ \\\\\n",
       "\t29 & CATG00000000200.1 & 0.0 & 0.0 & 0.0 & 0.0 & 0.0 & 0.0 & $\\dots$ \\\\\n",
       "\t30 & CATG00000000211.1 & 0.50402 & 0.74513 & 0.58957 & 0.59182 & 0.47301 & 0.44853 & $\\dots$ \\\\\n",
       "\t$\\dots$ & $\\dots$ & $\\dots$ & $\\dots$ & $\\dots$ & $\\dots$ & $\\dots$ & $\\dots$ &  \\\\\n",
       "\\end{tabular}\n"
      ],
      "text/plain": [
       "42141×786 DataFrame. Omitted printing of 781 columns\n",
       "│ Row   │ gene_id           │ CNhs11936 │ CNhs13100 │ CNhs13101 │ CNhs13102 │\n",
       "│       │ \u001b[90mString\u001b[39m            │ \u001b[90mFloat64\u001b[39m   │ \u001b[90mFloat64\u001b[39m   │ \u001b[90mFloat64\u001b[39m   │ \u001b[90mFloat64\u001b[39m   │\n",
       "├───────┼───────────────────┼───────────┼───────────┼───────────┼───────────┤\n",
       "│ 1     │ CATG00000000004.1 │ 0.0       │ 0.74513   │ 0.0       │ 0.0       │\n",
       "│ 2     │ CATG00000000008.1 │ 0.84004   │ 0.0       │ 0.0       │ 0.0       │\n",
       "│ 3     │ CATG00000000010.1 │ 0.0       │ 0.74513   │ 0.0       │ 0.0       │\n",
       "│ 4     │ CATG00000000011.1 │ 0.16801   │ 0.0       │ 0.58957   │ 0.0       │\n",
       "│ 5     │ CATG00000000018.1 │ 0.0       │ 0.0       │ 0.0       │ 0.0       │\n",
       "│ 6     │ CATG00000000020.1 │ 0.0       │ 0.0       │ 0.0       │ 0.0       │\n",
       "│ 7     │ CATG00000000025.1 │ 0.0       │ 0.0       │ 0.0       │ 0.0       │\n",
       "│ 8     │ CATG00000000026.1 │ 0.0       │ 0.0       │ 0.0       │ 0.0       │\n",
       "│ 9     │ CATG00000000027.1 │ 0.0       │ 0.0       │ 0.0       │ 0.0       │\n",
       "│ 10    │ CATG00000000031.1 │ 0.0       │ 0.0       │ 0.0       │ 0.0       │\n",
       "⋮\n",
       "│ 42131 │ ENSG00000273439.1 │ 4.87221   │ 2.23539   │ 2.94784   │ 4.14272   │\n",
       "│ 42132 │ ENSG00000273443.1 │ 0.0       │ 0.74513   │ 0.58957   │ 1.18363   │\n",
       "│ 42133 │ ENSG00000273451.1 │ 0.16801   │ 0.0       │ 0.0       │ 0.59182   │\n",
       "│ 42134 │ ENSG00000273456.1 │ 1.84807   │ 0.0       │ 1.76871   │ 2.36727   │\n",
       "│ 42135 │ ENSG00000273464.1 │ 0.0       │ 0.0       │ 0.0       │ 0.0       │\n",
       "│ 42136 │ ENSG00000273472.1 │ 0.33602   │ 0.74513   │ 0.58957   │ 0.0       │\n",
       "│ 42137 │ ENSG00000273473.1 │ 0.16801   │ 0.74513   │ 0.0       │ 0.0       │\n",
       "│ 42138 │ ENSG00000273481.1 │ 0.33602   │ 0.74513   │ 0.0       │ 0.0       │\n",
       "│ 42139 │ ENSG00000273492.1 │ 0.16801   │ 0.0       │ 0.0       │ 0.0       │\n",
       "│ 42140 │ ENSGR0000169100.8 │ 0.0       │ 2.98051   │ 2.94784   │ 5.32635   │\n",
       "│ 42141 │ ENSGR0000225661.2 │ 0.0       │ 0.74513   │ 1.17914   │ 0.0       │"
      ]
     },
     "execution_count": 25,
     "metadata": {},
     "output_type": "execute_result"
    }
   ],
   "source": [
    "raw = raw[isin(raw.gene_id, gene_set), :]"
   ]
  },
  {
   "cell_type": "markdown",
   "metadata": {},
   "source": [
    "## Select experiments"
   ]
  },
  {
   "cell_type": "code",
   "execution_count": 4,
   "metadata": {},
   "outputs": [
    {
     "data": {
      "text/plain": [
       "5-element Array{String,1}:\n",
       " \"Embryoid body to melanocyte\"\n",
       " \"ES to cardiomyocyte\"        \n",
       " \"Macrophage infection\"       \n",
       " \"MCF7 response\"              \n",
       " \"MSC to adipocyte\"           "
      ]
     },
     "execution_count": 4,
     "metadata": {},
     "output_type": "execute_result"
    }
   ],
   "source": [
    "expr = [\"Embryoid body to melanocyte\", \"ES to cardiomyocyte\", \"Macrophage infection\", \"MCF7 response\",\n",
    "        \"MSC to adipocyte\"]"
   ]
  },
  {
   "cell_type": "code",
   "execution_count": 5,
   "metadata": {},
   "outputs": [
    {
     "data": {
      "text/plain": [
       "isin (generic function with 1 method)"
      ]
     },
     "execution_count": 5,
     "metadata": {},
     "output_type": "execute_result"
    }
   ],
   "source": [
    "isin(xs, ys) = map(x -> x in ys, xs)"
   ]
  },
  {
   "cell_type": "code",
   "execution_count": 7,
   "metadata": {},
   "outputs": [
    {
     "data": {
      "text/html": [
       "<table class=\"data-frame\"><thead><tr><th></th><th>category</th><th>experiment</th><th>cell_type</th><th>related_type</th></tr><tr><th></th><th>String</th><th>String</th><th>String</th><th>String</th></tr></thead><tbody><p>337 rows × 10 columns (omitted printing of 6 columns)</p><tr><th>1</th><td>time courses</td><td>Embryoid body to melanocyte</td><td>H9 Embryoid body cells</td><td>stem cell</td></tr><tr><th>2</th><td>time courses</td><td>Embryoid body to melanocyte</td><td>H9 Embryoid body cells</td><td>stem cell</td></tr><tr><th>3</th><td>time courses</td><td>Embryoid body to melanocyte</td><td>H9 Embryoid body cells</td><td>stem cell</td></tr><tr><th>4</th><td>time courses</td><td>Embryoid body to melanocyte</td><td>H9 Embryoid body cells</td><td>stem cell</td></tr><tr><th>5</th><td>time courses</td><td>Embryoid body to melanocyte</td><td>H9 Embryoid body cells</td><td>stem cell</td></tr><tr><th>6</th><td>time courses</td><td>Embryoid body to melanocyte</td><td>H9 Embryoid body cells</td><td>stem cell</td></tr><tr><th>7</th><td>time courses</td><td>Embryoid body to melanocyte</td><td>H9 Embryoid body cells</td><td>stem cell</td></tr><tr><th>8</th><td>time courses</td><td>Embryoid body to melanocyte</td><td>H9 Embryoid body cells</td><td>stem cell</td></tr><tr><th>9</th><td>time courses</td><td>Embryoid body to melanocyte</td><td>H9 Embryoid body cells</td><td>stem cell</td></tr><tr><th>10</th><td>time courses</td><td>Embryoid body to melanocyte</td><td>H9 Embryoid body cells</td><td>stem cell</td></tr><tr><th>11</th><td>time courses</td><td>Embryoid body to melanocyte</td><td>H9 Embryoid body cells</td><td>stem cell</td></tr><tr><th>12</th><td>time courses</td><td>Embryoid body to melanocyte</td><td>H9 Embryoid body cells</td><td>stem cell</td></tr><tr><th>13</th><td>time courses</td><td>Embryoid body to melanocyte</td><td>H9 Embryoid body cells</td><td>stem cell</td></tr><tr><th>14</th><td>time courses</td><td>Embryoid body to melanocyte</td><td>H9 Embryoid body cells</td><td>stem cell</td></tr><tr><th>15</th><td>time courses</td><td>Embryoid body to melanocyte</td><td>H9 Embryoid body cells</td><td>stem cell</td></tr><tr><th>16</th><td>time courses</td><td>Embryoid body to melanocyte</td><td>H9 Embryoid body cells</td><td>stem cell</td></tr><tr><th>17</th><td>time courses</td><td>Embryoid body to melanocyte</td><td>H9 Embryoid body cells</td><td>stem cell</td></tr><tr><th>18</th><td>time courses</td><td>Embryoid body to melanocyte</td><td>H9 Embryoid body cells</td><td>stem cell</td></tr><tr><th>19</th><td>time courses</td><td>Embryoid body to melanocyte</td><td>H9 Embryoid body cells</td><td>stem cell</td></tr><tr><th>20</th><td>time courses</td><td>Embryoid body to melanocyte</td><td>H9 Embryoid body cells</td><td>stem cell</td></tr><tr><th>21</th><td>time courses</td><td>Embryoid body to melanocyte</td><td>H9 Embryoid body cells</td><td>stem cell</td></tr><tr><th>22</th><td>time courses</td><td>Embryoid body to melanocyte</td><td>H9 Embryoid body cells</td><td>stem cell</td></tr><tr><th>23</th><td>time courses</td><td>Embryoid body to melanocyte</td><td>H9 Embryoid body cells</td><td>stem cell</td></tr><tr><th>24</th><td>time courses</td><td>Embryoid body to melanocyte</td><td>H9 Embryoid body cells</td><td>stem cell</td></tr><tr><th>25</th><td>time courses</td><td>Embryoid body to melanocyte</td><td>H9 Embryoid body cells</td><td>stem cell</td></tr><tr><th>26</th><td>time courses</td><td>Embryoid body to melanocyte</td><td>H9 Embryoid body cells</td><td>stem cell</td></tr><tr><th>27</th><td>time courses</td><td>Embryoid body to melanocyte</td><td>H9 Embryoid body cells</td><td>stem cell</td></tr><tr><th>28</th><td>time courses</td><td>Embryoid body to melanocyte</td><td>H9 Embryoid body cells</td><td>stem cell</td></tr><tr><th>29</th><td>time courses</td><td>Embryoid body to melanocyte</td><td>H9 Embryoid body cells</td><td>stem cell</td></tr><tr><th>30</th><td>time courses</td><td>Embryoid body to melanocyte</td><td>H9 Embryoid body cells</td><td>stem cell</td></tr><tr><th>&vellip;</th><td>&vellip;</td><td>&vellip;</td><td>&vellip;</td><td>&vellip;</td></tr></tbody></table>"
      ],
      "text/latex": [
       "\\begin{tabular}{r|ccccc}\n",
       "\t& category & experiment & cell\\_type & related\\_type & \\\\\n",
       "\t\\hline\n",
       "\t& String & String & String & String & \\\\\n",
       "\t\\hline\n",
       "\t1 & time courses & Embryoid body to melanocyte & H9 Embryoid body cells & stem cell & $\\dots$ \\\\\n",
       "\t2 & time courses & Embryoid body to melanocyte & H9 Embryoid body cells & stem cell & $\\dots$ \\\\\n",
       "\t3 & time courses & Embryoid body to melanocyte & H9 Embryoid body cells & stem cell & $\\dots$ \\\\\n",
       "\t4 & time courses & Embryoid body to melanocyte & H9 Embryoid body cells & stem cell & $\\dots$ \\\\\n",
       "\t5 & time courses & Embryoid body to melanocyte & H9 Embryoid body cells & stem cell & $\\dots$ \\\\\n",
       "\t6 & time courses & Embryoid body to melanocyte & H9 Embryoid body cells & stem cell & $\\dots$ \\\\\n",
       "\t7 & time courses & Embryoid body to melanocyte & H9 Embryoid body cells & stem cell & $\\dots$ \\\\\n",
       "\t8 & time courses & Embryoid body to melanocyte & H9 Embryoid body cells & stem cell & $\\dots$ \\\\\n",
       "\t9 & time courses & Embryoid body to melanocyte & H9 Embryoid body cells & stem cell & $\\dots$ \\\\\n",
       "\t10 & time courses & Embryoid body to melanocyte & H9 Embryoid body cells & stem cell & $\\dots$ \\\\\n",
       "\t11 & time courses & Embryoid body to melanocyte & H9 Embryoid body cells & stem cell & $\\dots$ \\\\\n",
       "\t12 & time courses & Embryoid body to melanocyte & H9 Embryoid body cells & stem cell & $\\dots$ \\\\\n",
       "\t13 & time courses & Embryoid body to melanocyte & H9 Embryoid body cells & stem cell & $\\dots$ \\\\\n",
       "\t14 & time courses & Embryoid body to melanocyte & H9 Embryoid body cells & stem cell & $\\dots$ \\\\\n",
       "\t15 & time courses & Embryoid body to melanocyte & H9 Embryoid body cells & stem cell & $\\dots$ \\\\\n",
       "\t16 & time courses & Embryoid body to melanocyte & H9 Embryoid body cells & stem cell & $\\dots$ \\\\\n",
       "\t17 & time courses & Embryoid body to melanocyte & H9 Embryoid body cells & stem cell & $\\dots$ \\\\\n",
       "\t18 & time courses & Embryoid body to melanocyte & H9 Embryoid body cells & stem cell & $\\dots$ \\\\\n",
       "\t19 & time courses & Embryoid body to melanocyte & H9 Embryoid body cells & stem cell & $\\dots$ \\\\\n",
       "\t20 & time courses & Embryoid body to melanocyte & H9 Embryoid body cells & stem cell & $\\dots$ \\\\\n",
       "\t21 & time courses & Embryoid body to melanocyte & H9 Embryoid body cells & stem cell & $\\dots$ \\\\\n",
       "\t22 & time courses & Embryoid body to melanocyte & H9 Embryoid body cells & stem cell & $\\dots$ \\\\\n",
       "\t23 & time courses & Embryoid body to melanocyte & H9 Embryoid body cells & stem cell & $\\dots$ \\\\\n",
       "\t24 & time courses & Embryoid body to melanocyte & H9 Embryoid body cells & stem cell & $\\dots$ \\\\\n",
       "\t25 & time courses & Embryoid body to melanocyte & H9 Embryoid body cells & stem cell & $\\dots$ \\\\\n",
       "\t26 & time courses & Embryoid body to melanocyte & H9 Embryoid body cells & stem cell & $\\dots$ \\\\\n",
       "\t27 & time courses & Embryoid body to melanocyte & H9 Embryoid body cells & stem cell & $\\dots$ \\\\\n",
       "\t28 & time courses & Embryoid body to melanocyte & H9 Embryoid body cells & stem cell & $\\dots$ \\\\\n",
       "\t29 & time courses & Embryoid body to melanocyte & H9 Embryoid body cells & stem cell & $\\dots$ \\\\\n",
       "\t30 & time courses & Embryoid body to melanocyte & H9 Embryoid body cells & stem cell & $\\dots$ \\\\\n",
       "\t$\\dots$ & $\\dots$ & $\\dots$ & $\\dots$ & $\\dots$ &  \\\\\n",
       "\\end{tabular}\n"
      ],
      "text/plain": [
       "337×10 DataFrame. Omitted printing of 8 columns\n",
       "│ Row │ category     │ experiment                  │\n",
       "│     │ \u001b[90mString\u001b[39m       │ \u001b[90mString\u001b[39m                      │\n",
       "├─────┼──────────────┼─────────────────────────────┤\n",
       "│ 1   │ time courses │ Embryoid body to melanocyte │\n",
       "│ 2   │ time courses │ Embryoid body to melanocyte │\n",
       "│ 3   │ time courses │ Embryoid body to melanocyte │\n",
       "│ 4   │ time courses │ Embryoid body to melanocyte │\n",
       "│ 5   │ time courses │ Embryoid body to melanocyte │\n",
       "│ 6   │ time courses │ Embryoid body to melanocyte │\n",
       "│ 7   │ time courses │ Embryoid body to melanocyte │\n",
       "│ 8   │ time courses │ Embryoid body to melanocyte │\n",
       "│ 9   │ time courses │ Embryoid body to melanocyte │\n",
       "│ 10  │ time courses │ Embryoid body to melanocyte │\n",
       "⋮\n",
       "│ 327 │ time courses │ MSC to adipocyte            │\n",
       "│ 328 │ time courses │ MSC to adipocyte            │\n",
       "│ 329 │ time courses │ MSC to adipocyte            │\n",
       "│ 330 │ time courses │ MSC to adipocyte            │\n",
       "│ 331 │ time courses │ MSC to adipocyte            │\n",
       "│ 332 │ time courses │ MSC to adipocyte            │\n",
       "│ 333 │ time courses │ MSC to adipocyte            │\n",
       "│ 334 │ time courses │ MSC to adipocyte            │\n",
       "│ 335 │ time courses │ MSC to adipocyte            │\n",
       "│ 336 │ time courses │ MSC to adipocyte            │\n",
       "│ 337 │ time courses │ MSC to adipocyte            │"
      ]
     },
     "execution_count": 7,
     "metadata": {},
     "output_type": "execute_result"
    }
   ],
   "source": [
    "meta = meta[isin(meta.experiment, expr), :]"
   ]
  },
  {
   "cell_type": "code",
   "execution_count": 12,
   "metadata": {},
   "outputs": [
    {
     "data": {
      "text/html": [
       "<table class=\"data-frame\"><thead><tr><th></th><th>cell_type</th><th>condition</th><th>replicate</th></tr><tr><th></th><th>String</th><th>String⍰</th><th>String</th></tr></thead><tbody><p>35 rows × 3 columns</p><tr><th>1</th><td>H9 Embryoid body cells</td><td>melanocytic induction</td><td>biol_rep1</td></tr><tr><th>2</th><td>H9 Embryoid body cells</td><td>melanocytic induction</td><td>biol_rep2</td></tr><tr><th>3</th><td>H9 Embryoid body cells</td><td>melanocytic induction</td><td>biol_rep3</td></tr><tr><th>4</th><td>H9 Embryonic Stem cells</td><td>missing</td><td>biol_rep1</td></tr><tr><th>5</th><td>H9 Embryonic Stem cells</td><td>missing</td><td>biol_rep2</td></tr><tr><th>6</th><td>H9 Embryonic Stem cells</td><td>missing</td><td>biol_rep3</td></tr><tr><th>7</th><td>Melanocyte</td><td>missing</td><td>donor1</td></tr><tr><th>8</th><td>Melanocyte</td><td>missing</td><td>donor2</td></tr><tr><th>9</th><td>Melanocyte</td><td>missing</td><td>donor3</td></tr><tr><th>10</th><td>HES3-GFP Embryonic Stem cells</td><td>cardiomyocytic induction</td><td>biol_rep1</td></tr><tr><th>11</th><td>HES3-GFP Embryonic Stem cells</td><td>cardiomyocytic induction</td><td>biol_rep2</td></tr><tr><th>12</th><td>HES3-GFP Embryonic Stem cells</td><td>cardiomyocytic induction</td><td>biol_rep3</td></tr><tr><th>13</th><td>Monocyte-derived macrophages</td><td>response to LPS</td><td>donor1</td></tr><tr><th>14</th><td>Monocyte-derived macrophages</td><td>response to LPS</td><td>donor2</td></tr><tr><th>15</th><td>Monocyte-derived macrophages</td><td>response to LPS</td><td>donor3</td></tr><tr><th>16</th><td>Monocyte-derived macrophages</td><td>response to mock influenza infection</td><td>donor1</td></tr><tr><th>17</th><td>Monocyte-derived macrophages</td><td>response to mock influenza infection</td><td>donor2</td></tr><tr><th>18</th><td>Monocyte-derived macrophages</td><td>response to mock influenza infection</td><td>donor3</td></tr><tr><th>19</th><td>Monocyte-derived macrophages</td><td>response to mock influenza infection</td><td>donor4</td></tr><tr><th>20</th><td>Monocyte-derived macrophages</td><td>response to udorn influenza infection</td><td>donor1</td></tr><tr><th>21</th><td>Monocyte-derived macrophages</td><td>response to udorn influenza infection</td><td>donor2</td></tr><tr><th>22</th><td>Monocyte-derived macrophages</td><td>response to udorn influenza infection</td><td>donor3</td></tr><tr><th>23</th><td>Monocyte-derived macrophages</td><td>response to udorn influenza infection</td><td>donor4</td></tr><tr><th>24</th><td>MCF7 breast cancer cell line</td><td>response to EGF1</td><td>biol_rep1</td></tr><tr><th>25</th><td>MCF7 breast cancer cell line</td><td>response to EGF1</td><td>biol_rep2</td></tr><tr><th>26</th><td>MCF7 breast cancer cell line</td><td>response to EGF1</td><td>biol_rep3</td></tr><tr><th>27</th><td>MCF7 breast cancer cell line</td><td>response to HRG</td><td>biol_rep1</td></tr><tr><th>28</th><td>MCF7 breast cancer cell line</td><td>response to HRG</td><td>biol_rep2</td></tr><tr><th>29</th><td>MCF7 breast cancer cell line</td><td>response to HRG</td><td>biol_rep3</td></tr><tr><th>30</th><td>adipose-derived mesenchymal stem cells</td><td>adipogenic induction</td><td>biol_rep1</td></tr><tr><th>&vellip;</th><td>&vellip;</td><td>&vellip;</td><td>&vellip;</td></tr></tbody></table>"
      ],
      "text/latex": [
       "\\begin{tabular}{r|ccc}\n",
       "\t& cell\\_type & condition & replicate\\\\\n",
       "\t\\hline\n",
       "\t& String & String⍰ & String\\\\\n",
       "\t\\hline\n",
       "\t1 & H9 Embryoid body cells & melanocytic induction & biol\\_rep1 \\\\\n",
       "\t2 & H9 Embryoid body cells & melanocytic induction & biol\\_rep2 \\\\\n",
       "\t3 & H9 Embryoid body cells & melanocytic induction & biol\\_rep3 \\\\\n",
       "\t4 & H9 Embryonic Stem cells &  & biol\\_rep1 \\\\\n",
       "\t5 & H9 Embryonic Stem cells &  & biol\\_rep2 \\\\\n",
       "\t6 & H9 Embryonic Stem cells &  & biol\\_rep3 \\\\\n",
       "\t7 & Melanocyte &  & donor1 \\\\\n",
       "\t8 & Melanocyte &  & donor2 \\\\\n",
       "\t9 & Melanocyte &  & donor3 \\\\\n",
       "\t10 & HES3-GFP Embryonic Stem cells & cardiomyocytic induction & biol\\_rep1 \\\\\n",
       "\t11 & HES3-GFP Embryonic Stem cells & cardiomyocytic induction & biol\\_rep2 \\\\\n",
       "\t12 & HES3-GFP Embryonic Stem cells & cardiomyocytic induction & biol\\_rep3 \\\\\n",
       "\t13 & Monocyte-derived macrophages & response to LPS & donor1 \\\\\n",
       "\t14 & Monocyte-derived macrophages & response to LPS & donor2 \\\\\n",
       "\t15 & Monocyte-derived macrophages & response to LPS & donor3 \\\\\n",
       "\t16 & Monocyte-derived macrophages & response to mock influenza infection & donor1 \\\\\n",
       "\t17 & Monocyte-derived macrophages & response to mock influenza infection & donor2 \\\\\n",
       "\t18 & Monocyte-derived macrophages & response to mock influenza infection & donor3 \\\\\n",
       "\t19 & Monocyte-derived macrophages & response to mock influenza infection & donor4 \\\\\n",
       "\t20 & Monocyte-derived macrophages & response to udorn influenza infection & donor1 \\\\\n",
       "\t21 & Monocyte-derived macrophages & response to udorn influenza infection & donor2 \\\\\n",
       "\t22 & Monocyte-derived macrophages & response to udorn influenza infection & donor3 \\\\\n",
       "\t23 & Monocyte-derived macrophages & response to udorn influenza infection & donor4 \\\\\n",
       "\t24 & MCF7 breast cancer cell line & response to EGF1 & biol\\_rep1 \\\\\n",
       "\t25 & MCF7 breast cancer cell line & response to EGF1 & biol\\_rep2 \\\\\n",
       "\t26 & MCF7 breast cancer cell line & response to EGF1 & biol\\_rep3 \\\\\n",
       "\t27 & MCF7 breast cancer cell line & response to HRG & biol\\_rep1 \\\\\n",
       "\t28 & MCF7 breast cancer cell line & response to HRG & biol\\_rep2 \\\\\n",
       "\t29 & MCF7 breast cancer cell line & response to HRG & biol\\_rep3 \\\\\n",
       "\t30 & adipose-derived mesenchymal stem cells & adipogenic induction & biol\\_rep1 \\\\\n",
       "\t$\\dots$ & $\\dots$ & $\\dots$ & $\\dots$ \\\\\n",
       "\\end{tabular}\n"
      ],
      "text/plain": [
       "35×3 DataFrame. Omitted printing of 1 columns\n",
       "│ Row │ cell_type                              │ condition                │\n",
       "│     │ \u001b[90mString\u001b[39m                                 │ \u001b[90mUnion{Missing, String}\u001b[39m   │\n",
       "├─────┼────────────────────────────────────────┼──────────────────────────┤\n",
       "│ 1   │ H9 Embryoid body cells                 │ melanocytic induction    │\n",
       "│ 2   │ H9 Embryoid body cells                 │ melanocytic induction    │\n",
       "│ 3   │ H9 Embryoid body cells                 │ melanocytic induction    │\n",
       "│ 4   │ H9 Embryonic Stem cells                │ \u001b[90mmissing\u001b[39m                  │\n",
       "│ 5   │ H9 Embryonic Stem cells                │ \u001b[90mmissing\u001b[39m                  │\n",
       "│ 6   │ H9 Embryonic Stem cells                │ \u001b[90mmissing\u001b[39m                  │\n",
       "│ 7   │ Melanocyte                             │ \u001b[90mmissing\u001b[39m                  │\n",
       "│ 8   │ Melanocyte                             │ \u001b[90mmissing\u001b[39m                  │\n",
       "│ 9   │ Melanocyte                             │ \u001b[90mmissing\u001b[39m                  │\n",
       "│ 10  │ HES3-GFP Embryonic Stem cells          │ cardiomyocytic induction │\n",
       "⋮\n",
       "│ 25  │ MCF7 breast cancer cell line           │ response to EGF1         │\n",
       "│ 26  │ MCF7 breast cancer cell line           │ response to EGF1         │\n",
       "│ 27  │ MCF7 breast cancer cell line           │ response to HRG          │\n",
       "│ 28  │ MCF7 breast cancer cell line           │ response to HRG          │\n",
       "│ 29  │ MCF7 breast cancer cell line           │ response to HRG          │\n",
       "│ 30  │ adipose-derived mesenchymal stem cells │ adipogenic induction     │\n",
       "│ 31  │ adipose-derived mesenchymal stem cells │ adipogenic induction     │\n",
       "│ 32  │ adipose-derived mesenchymal stem cells │ adipogenic induction     │\n",
       "│ 33  │ adipose-derived mesenchymal stem cells │ undifferentiated control │\n",
       "│ 34  │ adipose-derived mesenchymal stem cells │ undifferentiated control │\n",
       "│ 35  │ adipose-derived mesenchymal stem cells │ undifferentiated control │"
      ]
     },
     "execution_count": 12,
     "metadata": {},
     "output_type": "execute_result"
    }
   ],
   "source": [
    "selected_meta = unique(meta[:, [:cell_type, :condition, :replicate]])"
   ]
  },
  {
   "cell_type": "code",
   "execution_count": 13,
   "metadata": {},
   "outputs": [
    {
     "data": {
      "text/plain": [
       "35"
      ]
     },
     "execution_count": 13,
     "metadata": {},
     "output_type": "execute_result"
    }
   ],
   "source": [
    "nrow(selected_meta)"
   ]
  },
  {
   "cell_type": "markdown",
   "metadata": {},
   "source": [
    "## Select samples"
   ]
  },
  {
   "cell_type": "code",
   "execution_count": null,
   "metadata": {},
   "outputs": [],
   "source": [
    "[\"H9 Embryoid body cells\", \"HES3-GFP Embryonic Stem cells\", \"Monocyte-derived macrophages\",\n",
    "    \"MCF7 breast cancer cell line\", \"adipose-derived mesenchymal stem cells\"]"
   ]
  },
  {
   "cell_type": "code",
   "execution_count": 45,
   "metadata": {},
   "outputs": [
    {
     "data": {
      "text/html": [
       "<table class=\"data-frame\"><thead><tr><th></th><th>condition</th><th>time</th><th>replicate</th><th>library_id</th></tr><tr><th></th><th>String⍰</th><th>String⍰</th><th>String</th><th>String</th></tr></thead><tbody><p>54 rows × 4 columns</p><tr><th>1</th><td>adipogenic induction</td><td>00hr00min</td><td>biol_rep1</td><td>CNhs13337</td></tr><tr><th>2</th><td>adipogenic induction</td><td>00hr00min</td><td>biol_rep2</td><td>CNhs13420</td></tr><tr><th>3</th><td>adipogenic induction</td><td>00hr00min</td><td>biol_rep3</td><td>CNhs13421</td></tr><tr><th>4</th><td>adipogenic induction</td><td>00hr15min</td><td>biol_rep1</td><td>CNhs13422</td></tr><tr><th>5</th><td>adipogenic induction</td><td>00hr15min</td><td>biol_rep2</td><td>CNhs13423</td></tr><tr><th>6</th><td>adipogenic induction</td><td>00hr15min</td><td>biol_rep3</td><td>CNhs13424</td></tr><tr><th>7</th><td>adipogenic induction</td><td>00hr30min</td><td>biol_rep1</td><td>CNhs13425</td></tr><tr><th>8</th><td>adipogenic induction</td><td>00hr30min</td><td>biol_rep2</td><td>CNhs13426</td></tr><tr><th>9</th><td>adipogenic induction</td><td>00hr30min</td><td>biol_rep3</td><td>CNhs13427</td></tr><tr><th>10</th><td>adipogenic induction</td><td>00hr45min</td><td>biol_rep1</td><td>CNhs13428</td></tr><tr><th>11</th><td>adipogenic induction</td><td>00hr45min</td><td>biol_rep2</td><td>CNhs13429</td></tr><tr><th>12</th><td>adipogenic induction</td><td>00hr45min</td><td>biol_rep3</td><td>CNhs13430</td></tr><tr><th>13</th><td>adipogenic induction</td><td>01hr00min</td><td>biol_rep1</td><td>CNhs13431</td></tr><tr><th>14</th><td>adipogenic induction</td><td>01hr00min</td><td>biol_rep2</td><td>CNhs13432</td></tr><tr><th>15</th><td>adipogenic induction</td><td>01hr00min</td><td>biol_rep3</td><td>CNhs13433</td></tr><tr><th>16</th><td>adipogenic induction</td><td>01hr20min</td><td>biol_rep1</td><td>CNhs13434</td></tr><tr><th>17</th><td>adipogenic induction</td><td>01hr20min</td><td>biol_rep2</td><td>CNhs13598</td></tr><tr><th>18</th><td>adipogenic induction</td><td>01hr20min</td><td>biol_rep3</td><td>CNhs13599</td></tr><tr><th>19</th><td>adipogenic induction</td><td>01hr40min</td><td>biol_rep1</td><td>CNhs13600</td></tr><tr><th>20</th><td>adipogenic induction</td><td>01hr40min</td><td>biol_rep2</td><td>CNhs13601</td></tr><tr><th>21</th><td>adipogenic induction</td><td>01hr40min</td><td>biol_rep3</td><td>CNhs13602</td></tr><tr><th>22</th><td>adipogenic induction</td><td>02hr00min</td><td>biol_rep1</td><td>CNhs13603</td></tr><tr><th>23</th><td>adipogenic induction</td><td>02hr00min</td><td>biol_rep2</td><td>CNhs13604</td></tr><tr><th>24</th><td>adipogenic induction</td><td>02hr00min</td><td>biol_rep3</td><td>CNhs13605</td></tr><tr><th>25</th><td>adipogenic induction</td><td>02hr30min</td><td>biol_rep1</td><td>CNhs13606</td></tr><tr><th>26</th><td>adipogenic induction</td><td>02hr30min</td><td>biol_rep2</td><td>CNhs13607</td></tr><tr><th>27</th><td>adipogenic induction</td><td>02hr30min</td><td>biol_rep3</td><td>CNhs13608</td></tr><tr><th>28</th><td>adipogenic induction</td><td>03hr00min</td><td>biol_rep1</td><td>CNhs13609</td></tr><tr><th>29</th><td>adipogenic induction</td><td>03hr00min</td><td>biol_rep2</td><td>CNhs13610</td></tr><tr><th>30</th><td>adipogenic induction</td><td>03hr00min</td><td>biol_rep3</td><td>CNhs13611</td></tr><tr><th>&vellip;</th><td>&vellip;</td><td>&vellip;</td><td>&vellip;</td><td>&vellip;</td></tr></tbody></table>"
      ],
      "text/latex": [
       "\\begin{tabular}{r|cccc}\n",
       "\t& condition & time & replicate & library\\_id\\\\\n",
       "\t\\hline\n",
       "\t& String⍰ & String⍰ & String & String\\\\\n",
       "\t\\hline\n",
       "\t1 & adipogenic induction & 00hr00min & biol\\_rep1 & CNhs13337 \\\\\n",
       "\t2 & adipogenic induction & 00hr00min & biol\\_rep2 & CNhs13420 \\\\\n",
       "\t3 & adipogenic induction & 00hr00min & biol\\_rep3 & CNhs13421 \\\\\n",
       "\t4 & adipogenic induction & 00hr15min & biol\\_rep1 & CNhs13422 \\\\\n",
       "\t5 & adipogenic induction & 00hr15min & biol\\_rep2 & CNhs13423 \\\\\n",
       "\t6 & adipogenic induction & 00hr15min & biol\\_rep3 & CNhs13424 \\\\\n",
       "\t7 & adipogenic induction & 00hr30min & biol\\_rep1 & CNhs13425 \\\\\n",
       "\t8 & adipogenic induction & 00hr30min & biol\\_rep2 & CNhs13426 \\\\\n",
       "\t9 & adipogenic induction & 00hr30min & biol\\_rep3 & CNhs13427 \\\\\n",
       "\t10 & adipogenic induction & 00hr45min & biol\\_rep1 & CNhs13428 \\\\\n",
       "\t11 & adipogenic induction & 00hr45min & biol\\_rep2 & CNhs13429 \\\\\n",
       "\t12 & adipogenic induction & 00hr45min & biol\\_rep3 & CNhs13430 \\\\\n",
       "\t13 & adipogenic induction & 01hr00min & biol\\_rep1 & CNhs13431 \\\\\n",
       "\t14 & adipogenic induction & 01hr00min & biol\\_rep2 & CNhs13432 \\\\\n",
       "\t15 & adipogenic induction & 01hr00min & biol\\_rep3 & CNhs13433 \\\\\n",
       "\t16 & adipogenic induction & 01hr20min & biol\\_rep1 & CNhs13434 \\\\\n",
       "\t17 & adipogenic induction & 01hr20min & biol\\_rep2 & CNhs13598 \\\\\n",
       "\t18 & adipogenic induction & 01hr20min & biol\\_rep3 & CNhs13599 \\\\\n",
       "\t19 & adipogenic induction & 01hr40min & biol\\_rep1 & CNhs13600 \\\\\n",
       "\t20 & adipogenic induction & 01hr40min & biol\\_rep2 & CNhs13601 \\\\\n",
       "\t21 & adipogenic induction & 01hr40min & biol\\_rep3 & CNhs13602 \\\\\n",
       "\t22 & adipogenic induction & 02hr00min & biol\\_rep1 & CNhs13603 \\\\\n",
       "\t23 & adipogenic induction & 02hr00min & biol\\_rep2 & CNhs13604 \\\\\n",
       "\t24 & adipogenic induction & 02hr00min & biol\\_rep3 & CNhs13605 \\\\\n",
       "\t25 & adipogenic induction & 02hr30min & biol\\_rep1 & CNhs13606 \\\\\n",
       "\t26 & adipogenic induction & 02hr30min & biol\\_rep2 & CNhs13607 \\\\\n",
       "\t27 & adipogenic induction & 02hr30min & biol\\_rep3 & CNhs13608 \\\\\n",
       "\t28 & adipogenic induction & 03hr00min & biol\\_rep1 & CNhs13609 \\\\\n",
       "\t29 & adipogenic induction & 03hr00min & biol\\_rep2 & CNhs13610 \\\\\n",
       "\t30 & adipogenic induction & 03hr00min & biol\\_rep3 & CNhs13611 \\\\\n",
       "\t$\\dots$ & $\\dots$ & $\\dots$ & $\\dots$ & $\\dots$ \\\\\n",
       "\\end{tabular}\n"
      ],
      "text/plain": [
       "54×4 DataFrame\n",
       "│ Row │ condition                │ time      │ replicate │ library_id │\n",
       "│     │ \u001b[90mUnion{Missing, String}\u001b[39m   │ \u001b[90mString⍰\u001b[39m   │ \u001b[90mString\u001b[39m    │ \u001b[90mString\u001b[39m     │\n",
       "├─────┼──────────────────────────┼───────────┼───────────┼────────────┤\n",
       "│ 1   │ adipogenic induction     │ 00hr00min │ biol_rep1 │ CNhs13337  │\n",
       "│ 2   │ adipogenic induction     │ 00hr00min │ biol_rep2 │ CNhs13420  │\n",
       "│ 3   │ adipogenic induction     │ 00hr00min │ biol_rep3 │ CNhs13421  │\n",
       "│ 4   │ adipogenic induction     │ 00hr15min │ biol_rep1 │ CNhs13422  │\n",
       "│ 5   │ adipogenic induction     │ 00hr15min │ biol_rep2 │ CNhs13423  │\n",
       "│ 6   │ adipogenic induction     │ 00hr15min │ biol_rep3 │ CNhs13424  │\n",
       "│ 7   │ adipogenic induction     │ 00hr30min │ biol_rep1 │ CNhs13425  │\n",
       "│ 8   │ adipogenic induction     │ 00hr30min │ biol_rep2 │ CNhs13426  │\n",
       "│ 9   │ adipogenic induction     │ 00hr30min │ biol_rep3 │ CNhs13427  │\n",
       "│ 10  │ adipogenic induction     │ 00hr45min │ biol_rep1 │ CNhs13428  │\n",
       "⋮\n",
       "│ 44  │ adipogenic induction     │ day08     │ biol_rep2 │ CNhs13626  │\n",
       "│ 45  │ adipogenic induction     │ day08     │ biol_rep3 │ CNhs13627  │\n",
       "│ 46  │ adipogenic induction     │ day12     │ biol_rep1 │ CNhs13628  │\n",
       "│ 47  │ adipogenic induction     │ day12     │ biol_rep2 │ CNhs13629  │\n",
       "│ 48  │ adipogenic induction     │ day12     │ biol_rep3 │ CNhs13630  │\n",
       "│ 49  │ adipogenic induction     │ day14     │ biol_rep1 │ CNhs13338  │\n",
       "│ 50  │ adipogenic induction     │ day14     │ biol_rep2 │ CNhs13631  │\n",
       "│ 51  │ adipogenic induction     │ day14     │ biol_rep3 │ CNhs13632  │\n",
       "│ 52  │ undifferentiated control │ \u001b[90mmissing\u001b[39m   │ biol_rep1 │ CNhs13692  │\n",
       "│ 53  │ undifferentiated control │ \u001b[90mmissing\u001b[39m   │ biol_rep2 │ CNhs13633  │\n",
       "│ 54  │ undifferentiated control │ \u001b[90mmissing\u001b[39m   │ biol_rep3 │ CNhs13634  │"
      ]
     },
     "execution_count": 45,
     "metadata": {},
     "output_type": "execute_result"
    }
   ],
   "source": [
    "submeta = meta[meta.cell_type .== \"adipose-derived mesenchymal stem cells\", [:condition, :time, :replicate, :library_id]]"
   ]
  },
  {
   "cell_type": "code",
   "execution_count": 46,
   "metadata": {},
   "outputs": [
    {
     "data": {
      "text/html": [
       "<table class=\"data-frame\"><thead><tr><th></th><th>condition</th><th>time</th><th>replicate</th><th>library_id</th></tr><tr><th></th><th>String⍰</th><th>String⍰</th><th>String</th><th>String</th></tr></thead><tbody><p>18 rows × 4 columns</p><tr><th>1</th><td>adipogenic induction</td><td>00hr00min</td><td>biol_rep1</td><td>CNhs13337</td></tr><tr><th>2</th><td>adipogenic induction</td><td>00hr15min</td><td>biol_rep1</td><td>CNhs13422</td></tr><tr><th>3</th><td>adipogenic induction</td><td>00hr30min</td><td>biol_rep1</td><td>CNhs13425</td></tr><tr><th>4</th><td>adipogenic induction</td><td>00hr45min</td><td>biol_rep1</td><td>CNhs13428</td></tr><tr><th>5</th><td>adipogenic induction</td><td>01hr00min</td><td>biol_rep1</td><td>CNhs13431</td></tr><tr><th>6</th><td>adipogenic induction</td><td>01hr20min</td><td>biol_rep1</td><td>CNhs13434</td></tr><tr><th>7</th><td>adipogenic induction</td><td>01hr40min</td><td>biol_rep1</td><td>CNhs13600</td></tr><tr><th>8</th><td>adipogenic induction</td><td>02hr00min</td><td>biol_rep1</td><td>CNhs13603</td></tr><tr><th>9</th><td>adipogenic induction</td><td>02hr30min</td><td>biol_rep1</td><td>CNhs13606</td></tr><tr><th>10</th><td>adipogenic induction</td><td>03hr00min</td><td>biol_rep1</td><td>CNhs13609</td></tr><tr><th>11</th><td>adipogenic induction</td><td>12hr00min</td><td>biol_rep1</td><td>CNhs13612</td></tr><tr><th>12</th><td>adipogenic induction</td><td>day01</td><td>biol_rep1</td><td>CNhs13615</td></tr><tr><th>13</th><td>adipogenic induction</td><td>day02</td><td>biol_rep1</td><td>CNhs13619</td></tr><tr><th>14</th><td>adipogenic induction</td><td>day04</td><td>biol_rep1</td><td>CNhs13622</td></tr><tr><th>15</th><td>adipogenic induction</td><td>day08</td><td>biol_rep1</td><td>CNhs13625</td></tr><tr><th>16</th><td>adipogenic induction</td><td>day12</td><td>biol_rep1</td><td>CNhs13628</td></tr><tr><th>17</th><td>adipogenic induction</td><td>day14</td><td>biol_rep1</td><td>CNhs13338</td></tr><tr><th>18</th><td>undifferentiated control</td><td>missing</td><td>biol_rep1</td><td>CNhs13692</td></tr></tbody></table>"
      ],
      "text/latex": [
       "\\begin{tabular}{r|cccc}\n",
       "\t& condition & time & replicate & library\\_id\\\\\n",
       "\t\\hline\n",
       "\t& String⍰ & String⍰ & String & String\\\\\n",
       "\t\\hline\n",
       "\t1 & adipogenic induction & 00hr00min & biol\\_rep1 & CNhs13337 \\\\\n",
       "\t2 & adipogenic induction & 00hr15min & biol\\_rep1 & CNhs13422 \\\\\n",
       "\t3 & adipogenic induction & 00hr30min & biol\\_rep1 & CNhs13425 \\\\\n",
       "\t4 & adipogenic induction & 00hr45min & biol\\_rep1 & CNhs13428 \\\\\n",
       "\t5 & adipogenic induction & 01hr00min & biol\\_rep1 & CNhs13431 \\\\\n",
       "\t6 & adipogenic induction & 01hr20min & biol\\_rep1 & CNhs13434 \\\\\n",
       "\t7 & adipogenic induction & 01hr40min & biol\\_rep1 & CNhs13600 \\\\\n",
       "\t8 & adipogenic induction & 02hr00min & biol\\_rep1 & CNhs13603 \\\\\n",
       "\t9 & adipogenic induction & 02hr30min & biol\\_rep1 & CNhs13606 \\\\\n",
       "\t10 & adipogenic induction & 03hr00min & biol\\_rep1 & CNhs13609 \\\\\n",
       "\t11 & adipogenic induction & 12hr00min & biol\\_rep1 & CNhs13612 \\\\\n",
       "\t12 & adipogenic induction & day01 & biol\\_rep1 & CNhs13615 \\\\\n",
       "\t13 & adipogenic induction & day02 & biol\\_rep1 & CNhs13619 \\\\\n",
       "\t14 & adipogenic induction & day04 & biol\\_rep1 & CNhs13622 \\\\\n",
       "\t15 & adipogenic induction & day08 & biol\\_rep1 & CNhs13625 \\\\\n",
       "\t16 & adipogenic induction & day12 & biol\\_rep1 & CNhs13628 \\\\\n",
       "\t17 & adipogenic induction & day14 & biol\\_rep1 & CNhs13338 \\\\\n",
       "\t18 & undifferentiated control &  & biol\\_rep1 & CNhs13692 \\\\\n",
       "\\end{tabular}\n"
      ],
      "text/plain": [
       "18×4 DataFrame\n",
       "│ Row │ condition                │ time      │ replicate │ library_id │\n",
       "│     │ \u001b[90mUnion{Missing, String}\u001b[39m   │ \u001b[90mString⍰\u001b[39m   │ \u001b[90mString\u001b[39m    │ \u001b[90mString\u001b[39m     │\n",
       "├─────┼──────────────────────────┼───────────┼───────────┼────────────┤\n",
       "│ 1   │ adipogenic induction     │ 00hr00min │ biol_rep1 │ CNhs13337  │\n",
       "│ 2   │ adipogenic induction     │ 00hr15min │ biol_rep1 │ CNhs13422  │\n",
       "│ 3   │ adipogenic induction     │ 00hr30min │ biol_rep1 │ CNhs13425  │\n",
       "│ 4   │ adipogenic induction     │ 00hr45min │ biol_rep1 │ CNhs13428  │\n",
       "│ 5   │ adipogenic induction     │ 01hr00min │ biol_rep1 │ CNhs13431  │\n",
       "│ 6   │ adipogenic induction     │ 01hr20min │ biol_rep1 │ CNhs13434  │\n",
       "│ 7   │ adipogenic induction     │ 01hr40min │ biol_rep1 │ CNhs13600  │\n",
       "│ 8   │ adipogenic induction     │ 02hr00min │ biol_rep1 │ CNhs13603  │\n",
       "│ 9   │ adipogenic induction     │ 02hr30min │ biol_rep1 │ CNhs13606  │\n",
       "│ 10  │ adipogenic induction     │ 03hr00min │ biol_rep1 │ CNhs13609  │\n",
       "│ 11  │ adipogenic induction     │ 12hr00min │ biol_rep1 │ CNhs13612  │\n",
       "│ 12  │ adipogenic induction     │ day01     │ biol_rep1 │ CNhs13615  │\n",
       "│ 13  │ adipogenic induction     │ day02     │ biol_rep1 │ CNhs13619  │\n",
       "│ 14  │ adipogenic induction     │ day04     │ biol_rep1 │ CNhs13622  │\n",
       "│ 15  │ adipogenic induction     │ day08     │ biol_rep1 │ CNhs13625  │\n",
       "│ 16  │ adipogenic induction     │ day12     │ biol_rep1 │ CNhs13628  │\n",
       "│ 17  │ adipogenic induction     │ day14     │ biol_rep1 │ CNhs13338  │\n",
       "│ 18  │ undifferentiated control │ \u001b[90mmissing\u001b[39m   │ biol_rep1 │ CNhs13692  │"
      ]
     },
     "execution_count": 46,
     "metadata": {},
     "output_type": "execute_result"
    }
   ],
   "source": [
    "submeta[submeta.replicate .== \"biol_rep1\", :]"
   ]
  },
  {
   "cell_type": "code",
   "execution_count": 28,
   "metadata": {},
   "outputs": [
    {
     "data": {
      "text/plain": [
       "Dict{String,Tuple} with 0 entries"
      ]
     },
     "execution_count": 28,
     "metadata": {},
     "output_type": "execute_result"
    }
   ],
   "source": [
    "datasets = Dict{String,Tuple}()"
   ]
  },
  {
   "cell_type": "code",
   "execution_count": 47,
   "metadata": {},
   "outputs": [],
   "source": [
    "exper = \"adipose-derived mesenchymal stem cells\"\n",
    "for rep in [\"biol_rep1\", \"biol_rep2\", \"biol_rep3\"]\n",
    "    libs = submeta[(submeta.condition .== \"adipogenic induction\") .& (submeta.replicate .== rep), :library_id]\n",
    "    times = submeta[submeta.replicate .== rep, :time]\n",
    "    libs = append!([:gene_id], Symbol.(libs))\n",
    "    datasets[exper*\",\"*rep] = (raw[:, libs], times)\n",
    "end"
   ]
  },
  {
   "cell_type": "code",
   "execution_count": 48,
   "metadata": {},
   "outputs": [
    {
     "data": {
      "text/plain": [
       "Dict{String,Tuple} with 15 entries:\n",
       "  \"HES3-GFP Embryonic Stem… => (42141×14 DataFrame. Omitted printing of 9 colum…\n",
       "  \"H9 Embryoid body cells,… => (42141×16 DataFrame. Omitted printing of 11 colu…\n",
       "  \"HES3-GFP Embryonic Stem… => (42141×14 DataFrame. Omitted printing of 9 colum…\n",
       "  \"Monocyte-derived macrop… => (42141×26 DataFrame. Omitted printing of 21 colu…\n",
       "  \"Monocyte-derived macrop… => (42141×27 DataFrame. Omitted printing of 22 colu…\n",
       "  \"Monocyte-derived macrop… => (42141×27 DataFrame. Omitted printing of 22 colu…\n",
       "  \"HES3-GFP Embryonic Stem… => (42141×14 DataFrame. Omitted printing of 9 colum…\n",
       "  \"H9 Embryoid body cells,… => (42141×15 DataFrame. Omitted printing of 10 colu…\n",
       "  \"MCF7 breast cancer cell… => (42141×16 DataFrame. Omitted printing of 11 colu…\n",
       "  \"MCF7 breast cancer cell… => (42141×16 DataFrame. Omitted printing of 11 colu…\n",
       "  \"MCF7 breast cancer cell… => (42141×16 DataFrame. Omitted printing of 11 colu…\n",
       "  \"adipose-derived mesench… => (42141×18 DataFrame. Omitted printing of 13 colu…\n",
       "  \"H9 Embryoid body cells,… => (42141×16 DataFrame. Omitted printing of 11 colu…\n",
       "  \"adipose-derived mesench… => (42141×18 DataFrame. Omitted printing of 13 colu…\n",
       "  \"adipose-derived mesench… => (42141×18 DataFrame. Omitted printing of 13 colu…"
      ]
     },
     "execution_count": 48,
     "metadata": {},
     "output_type": "execute_result"
    }
   ],
   "source": [
    "datasets"
   ]
  },
  {
   "cell_type": "markdown",
   "metadata": {},
   "source": [
    "## Parsing time"
   ]
  },
  {
   "cell_type": "code",
   "execution_count": 49,
   "metadata": {},
   "outputs": [
    {
     "data": {
      "text/plain": [
       "Set(Union{Missing, String}[\"20hr\", \"day10\", \"day24\", \"day06\", \"24hr00min\", \"05hr\", \"day08\", \"16hr\", \"06hr\", \"day21\"  …  \"08hr\", \"10hr\", \"12hr00min\", \"02hr00min\", \"day18\", \"day30\", \"day34\", \"day41\", \"day12\", \"00hr45min\", \"07hr\"])"
      ]
     },
     "execution_count": 49,
     "metadata": {},
     "output_type": "execute_result"
    }
   ],
   "source": [
    "Set(meta.time)"
   ]
  },
  {
   "cell_type": "code",
   "execution_count": 50,
   "metadata": {},
   "outputs": [
    {
     "data": {
      "text/plain": [
       "Base.KeySet for a Dict{String,Tuple} with 15 entries. Keys:\n",
       "  \"HES3-GFP Embryonic Stem cells,biol_rep1\"\n",
       "  \"H9 Embryoid body cells,biol_rep1\"\n",
       "  \"HES3-GFP Embryonic Stem cells,biol_rep2\"\n",
       "  \"Monocyte-derived macrophages,donor3\"\n",
       "  \"Monocyte-derived macrophages,donor2\"\n",
       "  \"Monocyte-derived macrophages,donor1\"\n",
       "  \"HES3-GFP Embryonic Stem cells,biol_rep3\"\n",
       "  \"H9 Embryoid body cells,biol_rep2\"\n",
       "  \"MCF7 breast cancer cell line,biol_rep1\"\n",
       "  \"MCF7 breast cancer cell line,biol_rep3\"\n",
       "  \"MCF7 breast cancer cell line,biol_rep2\"\n",
       "  \"adipose-derived mesenchymal stem cells,biol_rep3\"\n",
       "  \"H9 Embryoid body cells,biol_rep3\"\n",
       "  \"adipose-derived mesenchymal stem cells,biol_rep1\"\n",
       "  \"adipose-derived mesenchymal stem cells,biol_rep2\""
      ]
     },
     "execution_count": 50,
     "metadata": {},
     "output_type": "execute_result"
    }
   ],
   "source": [
    "keys(datasets)"
   ]
  },
  {
   "cell_type": "code",
   "execution_count": 63,
   "metadata": {},
   "outputs": [
    {
     "data": {
      "text/plain": [
       "parse_time (generic function with 2 methods)"
      ]
     },
     "execution_count": 63,
     "metadata": {},
     "output_type": "execute_result"
    }
   ],
   "source": [
    "function parse_time(t::String)\n",
    "    m = match(r\"day(\\d{2})|(\\d{2})hr(?:(\\d{2})min)?\", t)\n",
    "    if m.captures[1] != nothing\n",
    "        return Meta.parse(m.captures[1]) * 1440\n",
    "    else\n",
    "        x = Meta.parse(m.captures[2]) * 60\n",
    "        if m.captures[3] != nothing\n",
    "            x += Meta.parse(m.captures[3])\n",
    "        end\n",
    "        return x\n",
    "    end\n",
    "end\n",
    "parse_time(t) = t"
   ]
  },
  {
   "cell_type": "code",
   "execution_count": 64,
   "metadata": {},
   "outputs": [],
   "source": [
    "for (k, v) in datasets\n",
    "    datasets[k] = (v[1], parse_time.(v[2]))\n",
    "end"
   ]
  },
  {
   "cell_type": "code",
   "execution_count": 65,
   "metadata": {},
   "outputs": [
    {
     "data": {
      "text/plain": [
       "Dict{String,Tuple} with 15 entries:\n",
       "  \"HES3-GFP Embryonic Stem… => (42141×14 DataFrame. Omitted printing of 9 colum…\n",
       "  \"H9 Embryoid body cells,… => (42141×16 DataFrame. Omitted printing of 11 colu…\n",
       "  \"HES3-GFP Embryonic Stem… => (42141×14 DataFrame. Omitted printing of 9 colum…\n",
       "  \"Monocyte-derived macrop… => (42141×26 DataFrame. Omitted printing of 21 colu…\n",
       "  \"Monocyte-derived macrop… => (42141×27 DataFrame. Omitted printing of 22 colu…\n",
       "  \"Monocyte-derived macrop… => (42141×27 DataFrame. Omitted printing of 22 colu…\n",
       "  \"HES3-GFP Embryonic Stem… => (42141×14 DataFrame. Omitted printing of 9 colum…\n",
       "  \"H9 Embryoid body cells,… => (42141×15 DataFrame. Omitted printing of 10 colu…\n",
       "  \"MCF7 breast cancer cell… => (42141×16 DataFrame. Omitted printing of 11 colu…\n",
       "  \"MCF7 breast cancer cell… => (42141×16 DataFrame. Omitted printing of 11 colu…\n",
       "  \"MCF7 breast cancer cell… => (42141×16 DataFrame. Omitted printing of 11 colu…\n",
       "  \"adipose-derived mesench… => (42141×18 DataFrame. Omitted printing of 13 colu…\n",
       "  \"H9 Embryoid body cells,… => (42141×16 DataFrame. Omitted printing of 11 colu…\n",
       "  \"adipose-derived mesench… => (42141×18 DataFrame. Omitted printing of 13 colu…\n",
       "  \"adipose-derived mesench… => (42141×18 DataFrame. Omitted printing of 13 colu…"
      ]
     },
     "execution_count": 65,
     "metadata": {},
     "output_type": "execute_result"
    }
   ],
   "source": [
    "datasets"
   ]
  },
  {
   "cell_type": "code",
   "execution_count": 66,
   "metadata": {},
   "outputs": [],
   "source": [
    "@save \"../results/datasets.jld2\" datasets"
   ]
  },
  {
   "cell_type": "code",
   "execution_count": null,
   "metadata": {},
   "outputs": [],
   "source": []
  }
 ],
 "metadata": {
  "kernelspec": {
   "display_name": "Julia 1.2.0",
   "language": "julia",
   "name": "julia-1.2"
  },
  "language_info": {
   "file_extension": ".jl",
   "mimetype": "application/julia",
   "name": "julia",
   "version": "1.2.0"
  }
 },
 "nbformat": 4,
 "nbformat_minor": 2
}
